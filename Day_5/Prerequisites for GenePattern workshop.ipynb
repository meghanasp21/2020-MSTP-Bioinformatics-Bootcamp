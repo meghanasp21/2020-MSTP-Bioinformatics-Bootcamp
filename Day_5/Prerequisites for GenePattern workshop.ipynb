{
 "cells": [
  {
   "cell_type": "markdown",
   "metadata": {},
   "source": [
    "## Please complete the following before the Gene Pattern Workshop:"
   ]
  },
  {
   "cell_type": "markdown",
   "metadata": {},
   "source": [
    "A modern web browser (Google Chrome or Netscape Firefox recommended). You can go to https://browsehappy.com/ to get the latest version of your preferred browser."
   ]
  },
  {
   "cell_type": "markdown",
   "metadata": {},
   "source": [
    "A GenePattern Notebook account. Go to https://notebook.genepattern.org/, and click Register (in the top right corner). You will be prompted to enter a username and password. Please do not use special characters or spaces in your username. This registration will also automatically create an account for you on the GenePattern cloud server, https://cloud.genepattern.org."
   ]
  },
  {
   "cell_type": "markdown",
   "metadata": {},
   "source": [
    "Go through the 10-minute quickstart tutorial at https://notebook.genepattern.org/quickstart/"
   ]
  }
 ],
 "metadata": {
  "kernelspec": {
   "display_name": "Python 3",
   "language": "python",
   "name": "python3"
  },
  "language_info": {
   "codemirror_mode": {
    "name": "ipython",
    "version": 3
   },
   "file_extension": ".py",
   "mimetype": "text/x-python",
   "name": "python",
   "nbconvert_exporter": "python",
   "pygments_lexer": "ipython3",
   "version": "3.7.3"
  }
 },
 "nbformat": 4,
 "nbformat_minor": 2
}
