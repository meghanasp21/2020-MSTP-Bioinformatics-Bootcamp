{
 "cells": [
  {
   "cell_type": "code",
   "execution_count": 1,
   "metadata": {},
   "outputs": [],
   "source": [
    "import pandas as pd"
   ]
  },
  {
   "cell_type": "code",
   "execution_count": 3,
   "metadata": {},
   "outputs": [
    {
     "name": "stdout",
     "output_type": "stream",
     "text": [
      "(27525, 6)\n"
     ]
    },
    {
     "data": {
      "text/html": [
       "<div>\n",
       "<style scoped>\n",
       "    .dataframe tbody tr th:only-of-type {\n",
       "        vertical-align: middle;\n",
       "    }\n",
       "\n",
       "    .dataframe tbody tr th {\n",
       "        vertical-align: top;\n",
       "    }\n",
       "\n",
       "    .dataframe thead th {\n",
       "        text-align: right;\n",
       "    }\n",
       "</style>\n",
       "<table border=\"1\" class=\"dataframe\">\n",
       "  <thead>\n",
       "    <tr style=\"text-align: right;\">\n",
       "      <th></th>\n",
       "      <th>baseMean</th>\n",
       "      <th>log2FoldChange</th>\n",
       "      <th>lfcSE</th>\n",
       "      <th>stat</th>\n",
       "      <th>pvalue</th>\n",
       "      <th>padj</th>\n",
       "    </tr>\n",
       "  </thead>\n",
       "  <tbody>\n",
       "    <tr>\n",
       "      <th>ENSG00000227232.4</th>\n",
       "      <td>34.836316</td>\n",
       "      <td>1.321956</td>\n",
       "      <td>0.430423</td>\n",
       "      <td>3.071292</td>\n",
       "      <td>0.002131</td>\n",
       "      <td>0.005354</td>\n",
       "    </tr>\n",
       "    <tr>\n",
       "      <th>ENSG00000237683.5</th>\n",
       "      <td>45.331232</td>\n",
       "      <td>0.869329</td>\n",
       "      <td>0.373845</td>\n",
       "      <td>2.325373</td>\n",
       "      <td>0.020052</td>\n",
       "      <td>0.042548</td>\n",
       "    </tr>\n",
       "    <tr>\n",
       "      <th>ENSG00000241860.2</th>\n",
       "      <td>27.399177</td>\n",
       "      <td>1.293332</td>\n",
       "      <td>0.470746</td>\n",
       "      <td>2.747411</td>\n",
       "      <td>0.006007</td>\n",
       "      <td>0.014026</td>\n",
       "    </tr>\n",
       "    <tr>\n",
       "      <th>ENSG00000237094.7</th>\n",
       "      <td>85.506752</td>\n",
       "      <td>0.433270</td>\n",
       "      <td>0.253950</td>\n",
       "      <td>1.706124</td>\n",
       "      <td>0.087985</td>\n",
       "      <td>0.158272</td>\n",
       "    </tr>\n",
       "    <tr>\n",
       "      <th>ENSG00000231709.1</th>\n",
       "      <td>2.337934</td>\n",
       "      <td>0.866232</td>\n",
       "      <td>1.529401</td>\n",
       "      <td>0.566387</td>\n",
       "      <td>0.571131</td>\n",
       "      <td>0.695435</td>\n",
       "    </tr>\n",
       "  </tbody>\n",
       "</table>\n",
       "</div>"
      ],
      "text/plain": [
       "                    baseMean  log2FoldChange     lfcSE      stat    pvalue  \\\n",
       "ENSG00000227232.4  34.836316        1.321956  0.430423  3.071292  0.002131   \n",
       "ENSG00000237683.5  45.331232        0.869329  0.373845  2.325373  0.020052   \n",
       "ENSG00000241860.2  27.399177        1.293332  0.470746  2.747411  0.006007   \n",
       "ENSG00000237094.7  85.506752        0.433270  0.253950  1.706124  0.087985   \n",
       "ENSG00000231709.1   2.337934        0.866232  1.529401  0.566387  0.571131   \n",
       "\n",
       "                       padj  \n",
       "ENSG00000227232.4  0.005354  \n",
       "ENSG00000237683.5  0.042548  \n",
       "ENSG00000241860.2  0.014026  \n",
       "ENSG00000237094.7  0.158272  \n",
       "ENSG00000231709.1  0.695435  "
      ]
     },
     "execution_count": 3,
     "metadata": {},
     "output_type": "execute_result"
    }
   ],
   "source": [
    "\n",
    "directory = '/home/ucsd-train48/projects/featureCounts/'\n",
    "deseq2_output = pd.read_csv(directory+\"differential_expression.csv\",index_col=0)\n",
    "print deseq2_output.shape\n",
    "deseq2_output.head()"
   ]
  },
  {
   "cell_type": "code",
   "execution_count": null,
   "metadata": {},
   "outputs": [],
   "source": []
  }
 ],
 "metadata": {
  "kernelspec": {
   "display_name": "Python 2",
   "language": "python",
   "name": "python2"
  },
  "language_info": {
   "codemirror_mode": {
    "name": "ipython",
    "version": 2
   },
   "file_extension": ".py",
   "mimetype": "text/x-python",
   "name": "python",
   "nbconvert_exporter": "python",
   "pygments_lexer": "ipython2",
   "version": "2.7.16"
  }
 },
 "nbformat": 4,
 "nbformat_minor": 2
}
