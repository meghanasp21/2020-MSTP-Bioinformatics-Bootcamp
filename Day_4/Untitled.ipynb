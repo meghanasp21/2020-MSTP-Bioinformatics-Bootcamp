{
 "cells": [
  {
   "cell_type": "markdown",
   "metadata": {},
   "source": [
    "### We will now start coding in python! We are going to load our counts data from featureCounts and do some calculations"
   ]
  },
  {
   "cell_type": "markdown",
   "metadata": {},
   "source": [
    "First we need to import all the python packages that we will use. We will do that in the following cell. WARNING you most likely won't have all these packages installed. If you get the error \"Cannot import package name ....\" You need to go back to your command line and install it on tscc.\n",
    "Remember how we installed things before? Try conda, then bioconda, then pip. Once you have installed it on your command line on tscc, you will need to restart your kernel to refresh those changes (Kernel - Restart)\n"
   ]
  },
  {
   "cell_type": "markdown",
   "metadata": {},
   "source": [
    "NOTE - since these are python specific packages, you will not be able to tell if they installed properly on your command line with"
   ]
  },
  {
   "cell_type": "markdown",
   "metadata": {},
   "source": [
    "`which packagename`"
   ]
  },
  {
   "cell_type": "markdown",
   "metadata": {},
   "source": [
    "Instead, you will first need to open python in your terminal with:"
   ]
  },
  {
   "cell_type": "markdown",
   "metadata": {},
   "source": [
    "`python`"
   ]
  },
  {
   "cell_type": "markdown",
   "metadata": {},
   "source": [
    "Then try to import it (this is the same thing you do in a Jupyter notebook)"
   ]
  },
  {
   "cell_type": "markdown",
   "metadata": {},
   "source": [
    "`import packagename`"
   ]
  },
  {
   "cell_type": "markdown",
   "metadata": {},
   "source": [
    "If you don't get any errors, then success! It is installed. To get out of python and back to your normal command line:"
   ]
  },
  {
   "cell_type": "markdown",
   "metadata": {},
   "source": [
    "#### Prepare counts matrix"
   ]
  },
  {
   "cell_type": "markdown",
   "metadata": {},
   "source": [
    "`import pandas as pd\n",
    "import numpy as np\n",
    "import seaborn as sns\n",
    "from matplotlib import pyplot as plt\n",
    "%matplotlib inline`"
   ]
  },
  {
   "cell_type": "markdown",
   "metadata": {},
   "source": [
    "This notebook is linked to TSCC, so we can load data directly by providing \n",
    "he full path of the file location on tscc. Change the directory below to match your path\n"
   ]
  },
  {
   "cell_type": "markdown",
   "metadata": {},
   "source": [
    "directory = '/home/ucsd-train01/scratch/projects/lin28b_shrna/all_bams/'"
   ]
  },
  {
   "cell_type": "markdown",
   "metadata": {},
   "source": [
    "#We are going to load the featurecounts file and assign it to the variable name: counts\n",
    "#change the \"featureCounts.txt\" to match the filename you used in your featureCounts script"
   ]
  },
  {
   "cell_type": "markdown",
   "metadata": {},
   "source": [
    "counts = pd.read_csv(directory+\"featureCounts.txt\",sep=\"\\t\",index_col=0,\n",
    "                    comment=\"#\")\n",
    "print counts.shape\n",
    "counts.head()"
   ]
  },
  {
   "cell_type": "markdown",
   "metadata": {},
   "source": [
    "#Let's drop unnecessary columns\n",
    "\n",
    "#Look at the column names in your dataframe above, we only want to keep Length and the four files\n",
    "#containing the count information. Make sure the names that you have after drop below match the \n",
    "#column names that you want to eliminate"
   ]
  },
  {
   "cell_type": "markdown",
   "metadata": {},
   "source": [
    "\n",
    "counts.drop(['Chr','Start','End','Strand',\n",
    "              '/home/ucsd-train01/scratch/annotations/allchrom.fa'], \n",
    "           axis=1, inplace=True)\n",
    "counts.head()"
   ]
  },
  {
   "cell_type": "markdown",
   "metadata": {},
   "source": [
    "\n",
    "#We will save this counts matrix to use as the input for differential expression. \n",
    "#This will be saved in the directory called counts and will have the filename \n",
    "#counts_for_deseq2.csv\n",
    "counts.to_csv(directory+'counts_for_deseq2.csv')"
   ]
  },
  {
   "cell_type": "code",
   "execution_count": null,
   "metadata": {},
   "outputs": [],
   "source": []
  }
 ],
 "metadata": {
  "kernelspec": {
   "display_name": "Python 3",
   "language": "python",
   "name": "python3"
  },
  "language_info": {
   "codemirror_mode": {
    "name": "ipython",
    "version": 3
   },
   "file_extension": ".py",
   "mimetype": "text/x-python",
   "name": "python",
   "nbconvert_exporter": "python",
   "pygments_lexer": "ipython3",
   "version": "3.7.3"
  }
 },
 "nbformat": 4,
 "nbformat_minor": 2
}
