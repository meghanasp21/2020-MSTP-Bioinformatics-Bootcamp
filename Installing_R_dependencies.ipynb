{
 "cells": [
  {
   "cell_type": "markdown",
   "metadata": {},
   "source": [
    "## Installating R dependencies"
   ]
  },
  {
   "cell_type": "markdown",
   "metadata": {},
   "source": [
    "One of the major issues with installing R packages is dependency errors. This means that a certain package that your installed package relies on is not available. So, you need to install these dependencies:"
   ]
  },
  {
   "cell_type": "markdown",
   "metadata": {},
   "source": [
    "Below is an example of a dependency error:"
   ]
  },
  {
   "cell_type": "markdown",
   "metadata": {},
   "source": [
    "`> installation of package 'XML' had non-zero exit status`"
   ]
  },
  {
   "cell_type": "markdown",
   "metadata": {},
   "source": [
    "In order to install the dependencies, launch R:"
   ]
  },
  {
   "cell_type": "markdown",
   "metadata": {},
   "source": [
    "`R`"
   ]
  },
  {
   "cell_type": "markdown",
   "metadata": {},
   "source": [
    "Then try to install the package that is having non-zero exit status:"
   ]
  },
  {
   "cell_type": "markdown",
   "metadata": {},
   "source": [
    "`install.packages(\"XML\")`"
   ]
  }
 ],
 "metadata": {
  "kernelspec": {
   "display_name": "Python 3",
   "language": "python",
   "name": "python3"
  },
  "language_info": {
   "codemirror_mode": {
    "name": "ipython",
    "version": 3
   },
   "file_extension": ".py",
   "mimetype": "text/x-python",
   "name": "python",
   "nbconvert_exporter": "python",
   "pygments_lexer": "ipython3",
   "version": "3.7.3"
  }
 },
 "nbformat": 4,
 "nbformat_minor": 2
}
