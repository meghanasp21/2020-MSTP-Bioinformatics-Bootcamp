{
 "cells": [
  {
   "cell_type": "markdown",
   "metadata": {},
   "source": [
    "## Use STAR to align reads to genome "
   ]
  },
  {
   "cell_type": "markdown",
   "metadata": {},
   "source": [
    "### Generate STAR genome index"
   ]
  },
  {
   "cell_type": "markdown",
   "metadata": {},
   "source": [
    "Open the STAR user [manual](https://github.com/alexdobin/STAR/blob/master/doc/STARmanual.pdf). We will go through this briefly together to get an understanding of how to read documentation."
   ]
  },
  {
   "cell_type": "markdown",
   "metadata": {},
   "source": [
    "#### Download human fasta file"
   ]
  },
  {
   "cell_type": "markdown",
   "metadata": {},
   "source": [
    "Open UCSC genome [browser](https://genome.ucsc.edu/). The link to the specific annotations we will use is provided below, but first take a look through the website to see all the available annotations and features. We will go through this together. We will use UCSC to download the **chromosome fasta files** that are needed to build the STAR index. Use the same wget command followed by a copy of the web link address that we used previously to download the files to TSCC. The annotations are located [here](http://hgdownload.soe.ucsc.edu/goldenPath/hg19/bigZips/). Scroll to the bottom of the page and get the link for **chromFa.tar.gz**. Once you have made the folder, move into it so your annotations will land in the proper place.\n"
   ]
  },
  {
   "cell_type": "markdown",
   "metadata": {},
   "source": [
    "`cd ~/scratch`"
   ]
  },
  {
   "cell_type": "markdown",
   "metadata": {},
   "source": [
    "`mkdir annotations`"
   ]
  },
  {
   "cell_type": "markdown",
   "metadata": {},
   "source": [
    "`cd annotations`"
   ]
  },
  {
   "cell_type": "markdown",
   "metadata": {},
   "source": [
    "`mkdir hg19`"
   ]
  },
  {
   "cell_type": "markdown",
   "metadata": {},
   "source": [
    "`cd ~/scratch/annotations/hg19/`"
   ]
  },
  {
   "cell_type": "markdown",
   "metadata": {},
   "source": [
    "`wget http://hgdownload.soe.ucsc.edu/goldenPath/hg19/bigZips/chromFa.tar.gz`"
   ]
  },
  {
   "cell_type": "markdown",
   "metadata": {},
   "source": [
    "This will download a zipped file that you will proceed to unzip with:"
   ]
  },
  {
   "cell_type": "markdown",
   "metadata": {},
   "source": [
    "`tar -xvf chromFa.tar.gz`"
   ]
  },
  {
   "cell_type": "markdown",
   "metadata": {},
   "source": [
    "Unfortunately this downloads EVERYthing and we only want the chr#.fa files. We will remove the rest of the stuff in the directory with rm. To remove more than one file at a time you have to use the -r flag (recursive). Remember you can use the star character to remove all things that contain common characters. For example:"
   ]
  },
  {
   "cell_type": "markdown",
   "metadata": {},
   "source": [
    "`rm -r *random*`"
   ]
  },
  {
   "cell_type": "markdown",
   "metadata": {},
   "source": [
    "`rm -r *chrUn*`"
   ]
  },
  {
   "cell_type": "markdown",
   "metadata": {},
   "source": [
    "`rm -r *hap*`"
   ]
  },
  {
   "cell_type": "markdown",
   "metadata": {},
   "source": [
    "Once the folder is clean and contains only one fasta file per chromosome (and the original tar.gz file), you can merge them all together using cat and assign the output to a new file called chrall.fa using >. This is the chromosome fasta file that you will need to use to generate the genome index.\n"
   ]
  },
  {
   "cell_type": "markdown",
   "metadata": {},
   "source": [
    "`cat *.fa > allchrom.fa`"
   ]
  },
  {
   "cell_type": "markdown",
   "metadata": {},
   "source": [
    "*NOTE - the > character saves the result of your command to a new file.*"
   ]
  },
  {
   "cell_type": "markdown",
   "metadata": {},
   "source": [
    "#### Download gtf annotation from gencode"
   ]
  },
  {
   "cell_type": "markdown",
   "metadata": {},
   "source": [
    "We will use gencode release (19) for genome build GRCh37 (hg19). We want the gtf file of the comprehensive gencode annotation for chromosomes. "
   ]
  },
  {
   "cell_type": "markdown",
   "metadata": {},
   "source": [
    "`cd ~/scratch/annotations/hg19/`"
   ]
  },
  {
   "cell_type": "markdown",
   "metadata": {},
   "source": [
    "`wget ftp://ftp.ebi.ac.uk/pub/databases/gencode/Gencode_human/release_19/gencode.v19.annotation.gtf.gz`"
   ]
  },
  {
   "cell_type": "markdown",
   "metadata": {},
   "source": [
    "Unzip the file with gunzip:"
   ]
  },
  {
   "cell_type": "markdown",
   "metadata": {},
   "source": [
    "`gunzip gencode.v19.annotation.gtf.gz`"
   ]
  },
  {
   "cell_type": "markdown",
   "metadata": {},
   "source": [
    "*Note the different compression formats. This file was gzipped so it needs to unzipped with gunzip. The fasta files were tar compressed and required tar -xvf to unzip*"
   ]
  },
  {
   "cell_type": "markdown",
   "metadata": {},
   "source": [
    "STAR requires a lot of processing power, we are going to submit this command as a job to the cluster. Remember that handy fake submission script we made? Let's use it here by copying it and updating the necessary parameters"
   ]
  },
  {
   "cell_type": "markdown",
   "metadata": {},
   "source": [
    "`cd ~/scripts`"
   ]
  },
  {
   "cell_type": "markdown",
   "metadata": {},
   "source": [
    "Now copy our fake script into that directory with a new, meaningful name such as star_generate_index.sh"
   ]
  },
  {
   "cell_type": "markdown",
   "metadata": {},
   "source": [
    "`cp ~/fake_script.sh ~/scripts/star_generate_index.sh`\n"
   ]
  },
  {
   "cell_type": "markdown",
   "metadata": {},
   "source": [
    "For this script, we will use a walltime of 3 hours, 1 node, and 16 processors."
   ]
  },
  {
   "cell_type": "markdown",
   "metadata": {},
   "source": [
    "Use the STAR manual to decide how your STAR command should look like. Once you have decided what your STAR command should look like, add it to your star_generate_index.sh below the PBS flags."
   ]
  },
  {
   "cell_type": "markdown",
   "metadata": {},
   "source": [
    "Here is what I did:"
   ]
  },
  {
   "cell_type": "markdown",
   "metadata": {},
   "source": [
    "`mkdir ~/scratch/annotations/hg19/star`"
   ]
  },
  {
   "cell_type": "markdown",
   "metadata": {},
   "source": [
    "`#!/bin/bash`<br>\n",
    "`#PBS -q hotel`<br>\n",
    "`#PBS -N jobname`<br>\n",
    "`#PBS -l nodes=1:ppn=16`<br>\n",
    "`#PBS -l walltime=3:00:00`<br>\n",
    "`#PBS -o star_generate_index.out`<br>\n",
    "`#PBS -e star_generate_index.err`<br>\n",
    "\n",
    "`STAR --runThreadN 16 --runMode genomeGenerate --genomeDir ~/scratch/annotations/hg19/star --genomeFastaFiles ~/scratch/annotations/hg19/allchrom.fa --sjdbGTFfile ~/scratch/annotations/hg19/gencode.v19.annotation.gtf --outFileNamePrefix ~/scratch/annotations/hg19/star`"
   ]
  },
  {
   "cell_type": "markdown",
   "metadata": {},
   "source": [
    "#### Submit your script to the cluster:"
   ]
  },
  {
   "cell_type": "markdown",
   "metadata": {},
   "source": [
    "`qsub star_generate_index.sh`"
   ]
  },
  {
   "cell_type": "markdown",
   "metadata": {},
   "source": [
    "#### Check the status of your job"
   ]
  },
  {
   "cell_type": "markdown",
   "metadata": {},
   "source": [
    "`qstat -u ucsd-train48`"
   ]
  },
  {
   "cell_type": "markdown",
   "metadata": {},
   "source": [
    "Take a look at the status (The column labeled S). Q means your job is in the queue and has not started yet. R means your job is running (you will see the time updated according to how long it has been running). C means your job is complete."
   ]
  },
  {
   "cell_type": "markdown",
   "metadata": {},
   "source": [
    "#### Dealing with Errors"
   ]
  },
  {
   "cell_type": "markdown",
   "metadata": {},
   "source": [
    "The error file you have designated will output any errors or warning associated with the job."
   ]
  },
  {
   "cell_type": "markdown",
   "metadata": {},
   "source": [
    "If you have an error with your job, understand the error and go back into your script to correct. Common errors are misspelling or incorrect paths to data."
   ]
  },
  {
   "cell_type": "markdown",
   "metadata": {},
   "source": [
    "*Example error*"
   ]
  },
  {
   "cell_type": "markdown",
   "metadata": {},
   "source": [
    "`EXITING: FATAL INPUT ERROR: unrecoginzed parameter name \"sjdbGTFFile\" in input \"Command-Line-Initial\"\n",
    "SOLUTION: use correct parameter name (check the manual)`\n",
    "\n",
    "`Jul 21 14:19:02 ...... FATAL ERROR, exiting`"
   ]
  },
  {
   "cell_type": "markdown",
   "metadata": {},
   "source": [
    "In this case, you would go back and change the typo. The second F should not be capitalized."
   ]
  },
  {
   "cell_type": "markdown",
   "metadata": {},
   "source": [
    "### Map reads to the genome"
   ]
  },
  {
   "cell_type": "markdown",
   "metadata": {},
   "source": [
    "Once your job is complete you can move onto the next step of mapping your reads to the genome. Once again, copy your fake .sh script and make the necessary changes for this particular job submission.\n"
   ]
  },
  {
   "cell_type": "markdown",
   "metadata": {},
   "source": [
    "`cp ~/fake_script.sh ~/scripts/star_align.sh`"
   ]
  },
  {
   "cell_type": "markdown",
   "metadata": {},
   "source": [
    "Using the STAR manual, try to write out the command for mapping reads."
   ]
  },
  {
   "cell_type": "markdown",
   "metadata": {},
   "source": [
    "`mkdir ~/scratch/star_alignment`"
   ]
  },
  {
   "cell_type": "markdown",
   "metadata": {},
   "source": [
    "`#!/bin/bash`<br>\n",
    "`#PBS -q hotel`<br>\n",
    "`#PBS -N star_align`<br>\n",
    "`#PBS -l nodes=1:ppn=16`<br>\n",
    "`#PBS -l walltime=3:00:00`<br>\n",
    "`#PBS -o star_align.out`<br>\n",
    "`#PBS -e star_align.err`<br>\n",
    "\n",
    "`STAR --runThreadN 16 --genomeDir ~/scratch/annotations/hg19/star --readFilesIn ~/scratch/fastq/DMSO_1_ATCACG.combined.fastq  --outFileNamePrefix ~/scratch/star_alignment/DMSO_1_ATCACG`<br>\n",
    "<br>\n",
    "`STAR --runThreadN 16 --genomeDir ~/scratch/annotations/hg19/star --readFilesIn ~/scratch/fastq/DMSO_2_CGATGT.combined.fastq --outFileNamePrefix ~/scratch/star_alignment/DMSO_2_CGATGT`<br>\n",
    "<br>\n",
    "`STAR --runThreadN 16 --genomeDir ~/scratch/annotations/hg19/star --readFilesIn ~/scratch/fastq/DTP_1_CAGATC.combined.fastq --outFileNamePrefix ~/scratch/star_alignment/DTP_1_CAGATC`<br>\n",
    "<br>\n",
    "`STAR --runThreadN 16 --genomeDir ~/scratch/annotations/hg19/star --readFilesIn ~/scratch/fastq/DTP_2_CCGTCC.combined.fastq --outFileNamePrefix ~/scratch/star_alignment/DTP_2_CCGTCC`<br>\n",
    "<br>\n",
    "`STAR --runThreadN 16 --genomeDir ~/scratch/annotations/hg19/star --readFilesIn ~/scratch/fastq/DTP_3_GTGAAA.combined.fastq --outFileNamePrefix ~/scratch/star_alignment/DTP_3_GTGAAA`<br>\n",
    "\n"
   ]
  },
  {
   "cell_type": "markdown",
   "metadata": {},
   "source": [
    "After you are satisfied with your script, submit your job."
   ]
  },
  {
   "cell_type": "markdown",
   "metadata": {},
   "source": [
    "#### Side note on aliases"
   ]
  },
  {
   "cell_type": "markdown",
   "metadata": {},
   "source": [
    "If there are particular commands that you use a lot but are lengthy to type each time, you can make a handy shortcut for yourself by defining an alias in your ~/.bashrc file. For example,"
   ]
  },
  {
   "cell_type": "markdown",
   "metadata": {},
   "source": [
    "`qstat -u ucsd-train##`"
   ]
  },
  {
   "cell_type": "markdown",
   "metadata": {},
   "source": [
    "is really annoying to type and I use it a lot. I want to make a shortcut so I can just use:"
   ]
  },
  {
   "cell_type": "markdown",
   "metadata": {},
   "source": [
    "`qme`"
   ]
  },
  {
   "cell_type": "markdown",
   "metadata": {},
   "source": [
    "To do this, open your bashrc and add the following line to the bottom of your file, BELOW the line that says #user specific aliases and functions:"
   ]
  },
  {
   "cell_type": "markdown",
   "metadata": {},
   "source": [
    "`vi ~/.bashrc`"
   ]
  },
  {
   "cell_type": "markdown",
   "metadata": {},
   "source": [
    "`i`"
   ]
  },
  {
   "cell_type": "markdown",
   "metadata": {},
   "source": [
    "`alias qme=\"qstat -u ucsd-train##\"`"
   ]
  },
  {
   "cell_type": "markdown",
   "metadata": {},
   "source": [
    "`esc`"
   ]
  },
  {
   "cell_type": "markdown",
   "metadata": {},
   "source": [
    "`:wq`"
   ]
  },
  {
   "cell_type": "markdown",
   "metadata": {},
   "source": [
    "Now try your new alias!"
   ]
  },
  {
   "cell_type": "markdown",
   "metadata": {},
   "source": [
    "`qme`"
   ]
  },
  {
   "cell_type": "markdown",
   "metadata": {},
   "source": [
    "What happened? Why did you get this error?"
   ]
  },
  {
   "cell_type": "markdown",
   "metadata": {},
   "source": [
    "`-bash: qme: command not found`"
   ]
  },
  {
   "cell_type": "markdown",
   "metadata": {},
   "source": [
    "You changed your ~/.bashrc, but have not logged out and logged back in! How do you activate the changes that you made to the file?\n"
   ]
  },
  {
   "cell_type": "markdown",
   "metadata": {},
   "source": [
    "`source ~/.bashrc`"
   ]
  },
  {
   "cell_type": "code",
   "execution_count": null,
   "metadata": {},
   "outputs": [],
   "source": []
  },
  {
   "cell_type": "code",
   "execution_count": null,
   "metadata": {},
   "outputs": [],
   "source": []
  }
 ],
 "metadata": {
  "kernelspec": {
   "display_name": "Python 3",
   "language": "python",
   "name": "python3"
  },
  "language_info": {
   "codemirror_mode": {
    "name": "ipython",
    "version": 3
   },
   "file_extension": ".py",
   "mimetype": "text/x-python",
   "name": "python",
   "nbconvert_exporter": "python",
   "pygments_lexer": "ipython3",
   "version": "3.7.3"
  }
 },
 "nbformat": 4,
 "nbformat_minor": 2
}
