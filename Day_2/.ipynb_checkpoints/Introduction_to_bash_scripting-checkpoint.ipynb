{
 "cells": [
  {
   "cell_type": "markdown",
   "metadata": {},
   "source": [
    "### How to write a script"
   ]
  },
  {
   "cell_type": "markdown",
   "metadata": {},
   "source": [
    "Up until this point, we have been executing commands one-by-one through the command line. Wouldn't it be great if you could automate the execution of these command? That is where scripting comes into the picture. Scripting seems scary at first, but let's start simple:"
   ]
  },
  {
   "cell_type": "markdown",
   "metadata": {},
   "source": [
    "*Log into your TSCC account*"
   ]
  },
  {
   "cell_type": "markdown",
   "metadata": {},
   "source": [
    "Create a new text file with vi:"
   ]
  },
  {
   "cell_type": "markdown",
   "metadata": {},
   "source": [
    "`vi test.sh`"
   ]
  },
  {
   "cell_type": "markdown",
   "metadata": {},
   "source": [
    "Within the file, print a string that says \"Hello,world!\" using echo"
   ]
  },
  {
   "cell_type": "markdown",
   "metadata": {},
   "source": [
    "`i`"
   ]
  },
  {
   "cell_type": "markdown",
   "metadata": {},
   "source": [
    "`echo \"Hello, world!\"`"
   ]
  },
  {
   "cell_type": "markdown",
   "metadata": {},
   "source": [
    "`esc`"
   ]
  },
  {
   "cell_type": "markdown",
   "metadata": {},
   "source": [
    "`:wq!`"
   ]
  },
  {
   "cell_type": "markdown",
   "metadata": {},
   "source": [
    "Now we will run the script using the bash interpreter:"
   ]
  },
  {
   "cell_type": "markdown",
   "metadata": {},
   "source": [
    "`bash test.sh`"
   ]
  },
  {
   "cell_type": "markdown",
   "metadata": {},
   "source": [
    "If your script ran sucessfully, you will see \"Hello, world!\" printed in your terminal."
   ]
  },
  {
   "cell_type": "markdown",
   "metadata": {},
   "source": [
    "We were able to run this script with the bash interpreter. What if we want to run the script by name alone."
   ]
  },
  {
   "cell_type": "markdown",
   "metadata": {},
   "source": [
    "`test.sh`"
   ]
  },
  {
   "cell_type": "markdown",
   "metadata": {},
   "source": [
    "You will get the following error:"
   ]
  },
  {
   "cell_type": "markdown",
   "metadata": {},
   "source": [
    "`-bash: ./test.sh: Permission denied`"
   ]
  },
  {
   "cell_type": "markdown",
   "metadata": {},
   "source": [
    "In order to run a file directly, we need to change the permissions to allow the script to be executable for the user. **chmod** is a command that changes the permissions on a file and **+x** will add execute rights to the script."
   ]
  },
  {
   "cell_type": "markdown",
   "metadata": {},
   "source": [
    "`chmod +x test.sh`"
   ]
  },
  {
   "cell_type": "markdown",
   "metadata": {},
   "source": [
    "Now try to run the script. Did it work?"
   ]
  },
  {
   "cell_type": "markdown",
   "metadata": {},
   "source": [
    "## How to write a cluster job script"
   ]
  },
  {
   "cell_type": "markdown",
   "metadata": {},
   "source": [
    "Cluster computing is a powerful way to utilize a large number of computers connected together in a shared setting. Sometimes your computational needs extend beyond your local computer and utlizing a cluster can better accomodate them. Here are some terms to be familiar with when working with clusters such as the TSCC:"
   ]
  },
  {
   "cell_type": "markdown",
   "metadata": {},
   "source": [
    "**node**: Nodes, or individual computers, are installed into racks and connected by network connections to each other and large storage disks"
   ]
  },
  {
   "cell_type": "markdown",
   "metadata": {},
   "source": [
    "**head or login node**: Head or login nodes are nodes that users connect to directly and then request certain resources for running programs on the cluster using special cluster management software. The purpose of the head and login nodes is to prevent users from manually running jobs in an uncoordinated and ineffcient manner and to manage computing resources as efficiently as possible. Computationally intensive process should **not** be run on head nodes."
   ]
  },
  {
   "cell_type": "markdown",
   "metadata": {},
   "source": [
    "**job**: When a request is made, the cluster management will match one of the nodes to the quested resources and runs the requested program on that nodes. This request that is allocated to a node is called a *job*."
   ]
  },
  {
   "cell_type": "markdown",
   "metadata": {},
   "source": [
    "**resources**: All jobs require a certain amount of resources. Some resources that are configured on a cluster are cores, RAM (memory), and time."
   ]
  },
  {
   "cell_type": "markdown",
   "metadata": {},
   "source": [
    "Let's make a script with the basic structure of a cluster job script and walk through the details:"
   ]
  },
  {
   "cell_type": "markdown",
   "metadata": {},
   "source": [
    "`cd ~/`"
   ]
  },
  {
   "cell_type": "markdown",
   "metadata": {},
   "source": [
    "`vi fake_script.sh`"
   ]
  },
  {
   "cell_type": "markdown",
   "metadata": {},
   "source": [
    "`i`"
   ]
  },
  {
   "cell_type": "markdown",
   "metadata": {},
   "source": [
    "`#!/bin/bash`<br>\n",
    "`#PBS -q hotel`<br>\n",
    "`#PBS -N jobname`<br>\n",
    "`#PBS -l nodes=1:ppn=8`<br>\n",
    "`#PBS -l walltime=1:00:00`<br>\n",
    "`#PBS -o outputfile`<br>\n",
    "`#PBS -e errorfile`<br>"
   ]
  },
  {
   "cell_type": "markdown",
   "metadata": {},
   "source": [
    "`esc`"
   ]
  },
  {
   "cell_type": "markdown",
   "metadata": {},
   "source": [
    "`wq!`"
   ]
  },
  {
   "cell_type": "markdown",
   "metadata": {},
   "source": [
    "You can learn about which submission parameters to include and what they do [here](https://www.sdsc.edu/support/user_guides/tscc.html)."
   ]
  },
  {
   "cell_type": "markdown",
   "metadata": {},
   "source": [
    "**Submitting your script**: qsub [script]<br>\n",
    "**Checking status of your job**: qstat -u [username] <br>\n",
    "**Cancelling your job**: qdel [jobid] <br>"
   ]
  },
  {
   "cell_type": "code",
   "execution_count": null,
   "metadata": {},
   "outputs": [],
   "source": []
  },
  {
   "cell_type": "code",
   "execution_count": null,
   "metadata": {},
   "outputs": [],
   "source": []
  },
  {
   "cell_type": "code",
   "execution_count": null,
   "metadata": {},
   "outputs": [],
   "source": []
  },
  {
   "cell_type": "code",
   "execution_count": null,
   "metadata": {},
   "outputs": [],
   "source": []
  },
  {
   "cell_type": "code",
   "execution_count": null,
   "metadata": {},
   "outputs": [],
   "source": []
  }
 ],
 "metadata": {
  "kernelspec": {
   "display_name": "Python 3",
   "language": "python",
   "name": "python3"
  },
  "language_info": {
   "codemirror_mode": {
    "name": "ipython",
    "version": 3
   },
   "file_extension": ".py",
   "mimetype": "text/x-python",
   "name": "python",
   "nbconvert_exporter": "python",
   "pygments_lexer": "ipython3",
   "version": "3.7.3"
  }
 },
 "nbformat": 4,
 "nbformat_minor": 2
}
