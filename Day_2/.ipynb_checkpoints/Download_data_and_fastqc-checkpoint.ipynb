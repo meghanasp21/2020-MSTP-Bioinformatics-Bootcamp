{
 "cells": [
  {
   "cell_type": "markdown",
   "metadata": {},
   "source": [
    "## Download dataset and check the quality of our data"
   ]
  },
  {
   "cell_type": "markdown",
   "metadata": {},
   "source": [
    "### Get dataset"
   ]
  },
  {
   "cell_type": "markdown",
   "metadata": {},
   "source": [
    "First we will download the data from the [GEO](https://www.ncbi.nlm.nih.gov/geo/query/acc.cgi?acc=GSE84896) website. You can download either raw or processed data. We will start with the raw data which is in fasta format. I have already downloaded the raw files related to RNAseq gene expression profiling data generated from parental BT474 cells compared to BT474 persister cells generated from nine days of treatment with 2 uM lapatinib"
   ]
  },
  {
   "cell_type": "markdown",
   "metadata": {},
   "source": [
    "*NOTE - to avoid a backlog on the head node with all of us downloading the same datasets, please make a softlinks to the files that I have already downloaded and stored them in our shared folder for later use:*"
   ]
  },
  {
   "cell_type": "markdown",
   "metadata": {},
   "source": [
    "`ls ~/oasis`"
   ]
  },
  {
   "cell_type": "markdown",
   "metadata": {},
   "source": [
    "`\n",
    "DMSO_1_ATCACG_L001_R1.fastq\n",
    "DMSO_1_ATCACG_L002_R1.fastq\n",
    "DMSO_2_CGATGT_L001_R1.fastq\n",
    "DMSO_2_CGATGT_L002_R1.fastq\n",
    "DTP_1_CAGATC_L001_R1.fastq\n",
    "DTP_1_CAGATC_L002_R1.fastq\n",
    "DTP_2_CCGTCC_L001_R1.fastq\n",
    "DTP_2_CCGTCC_L002_R1.fastq\n",
    "DMSO_2_CGATGT_L001_R1.fastq\n",
    "DMSO_2_CGATGT_L002_R1.fastq\n",
    "DTP_3_GTGAAA_L001_R1.fastq\n",
    "DTP_3_GTGAAA_L002_R1.fastq\n",
    "`"
   ]
  },
  {
   "cell_type": "markdown",
   "metadata": {},
   "source": [
    "There are 10 files: sequencing reads from 2 lanes from 5 experiments--2 DMSO controls and 3 DTP treatments."
   ]
  },
  {
   "cell_type": "markdown",
   "metadata": {},
   "source": [
    "Let's take a look at how these files are formatted. Use **head** to print the first 10 lines"
   ]
  },
  {
   "cell_type": "markdown",
   "metadata": {},
   "source": [
    "`head DMSO_1_ATCACG_L001_R1.fastq`"
   ]
  },
  {
   "cell_type": "markdown",
   "metadata": {},
   "source": [
    "`@SRR3955801.sra.1 DJB775P1:373:D1AP7ACXX:1:1101:1324:2072 length=50\n",
    "NTATGATTCCTCCTAGTGCACAACCACCACGCACTCAAACACCACCTCTG`<br>\n",
    "`+SRR3955801.sra.1 DJB775P1:373:D1AP7ACXX:1:1101:1324:2072 length=50`\n",
    "`#1:AB;BDHHHGHHIIEBEGGIIIIIGGIGGHGG<GHIIGAHIIHIGGGG`<br>\n",
    "`@SRR3955801.sra.2 DJB775P1:373:D1AP7ACXX:1:1101:1268:2121 length=50\n",
    "TCTATCCTTTCGGAAAAAGGGACCAAATGCAACATAAAAATGTTTTCTCT`<br>\n",
    "`+SRR3955801.sra.2 DJB775P1:373:D1AP7ACXX:1:1101:1268:2121 length=50\n",
    "BC@FFFFFHHHHFJJJJJGHIJGHIIJIJGIIIIHIIJJGHGGHIJJJJI`<br>\n",
    "`@SRR3955801.sra.3 DJB775P1:373:D1AP7ACXX:1:1101:1409:2193 length=50\n",
    "CGTAAGTCTCCCTTCACCTGTTACAGAGTTTCAGATCGGTCACTGATAGT`<br>"
   ]
  },
  {
   "cell_type": "markdown",
   "metadata": {},
   "source": [
    "FASTQ format is a common format to store sequencing data. Usually the FASTQ format uses four lines per sequence"
   ]
  },
  {
   "cell_type": "markdown",
   "metadata": {},
   "source": [
    "**Line 1** begins with a '@' character and is followed by a sequence identifier and an optional description"
   ]
  },
  {
   "cell_type": "markdown",
   "metadata": {},
   "source": [
    "**Line 2** is the raw sequence letters."
   ]
  },
  {
   "cell_type": "markdown",
   "metadata": {},
   "source": [
    "**Line 3** begins with a '+' character and is optionally followed by the same sequence identifier (and any description) again."
   ]
  },
  {
   "cell_type": "markdown",
   "metadata": {},
   "source": [
    "**Line 4** encodes the quality values for the sequence in Line 2, and must contain the same number of symbols as letters in the sequence."
   ]
  },
  {
   "cell_type": "markdown",
   "metadata": {},
   "source": [
    "### Combine fastq files"
   ]
  },
  {
   "cell_type": "markdown",
   "metadata": {},
   "source": [
    "Typically reads from different lanes but from the experiment are combined. Let's write a bash script to combine the fastq files from different rows using cat:"
   ]
  },
  {
   "cell_type": "markdown",
   "metadata": {},
   "source": [
    "There are many different ways to do this but here is how I wrote my script:"
   ]
  },
  {
   "cell_type": "markdown",
   "metadata": {},
   "source": [
    "`vi combine-fastq.sh`"
   ]
  },
  {
   "cell_type": "markdown",
   "metadata": {},
   "source": [
    "`i`"
   ]
  },
  {
   "cell_type": "markdown",
   "metadata": {},
   "source": [
    "`echo \"combining DMSO_1_ATCACG...\"`<br>\n",
    "`cat DMSO_1_ATCACG* > DMSO_1_ATCACG.combined.fastq`<br>\n",
    "\n",
    "`echo \"combining DMSO_2_CGATGT...\"`<br>\n",
    "`cat DMSO_2_CGATGT* > DMSO_2_CGATGT.combined.fastq`<br>\n",
    "\n",
    "`echo \"combining DTP_1_CAGATC...\"`<br>\n",
    "`cat DTP_1_CAGATC* > DTP_1_CAGATC.combined.fastq`<br>\n",
    "\n",
    "`echo \"combining DTP_2_CCGTCC...\"`<br>\n",
    "`cat DTP_2_CCGTCC* > DTP_2_CCGTCC.combined.fastq`<br>\n",
    "\n",
    "`echo \"combining DTP_3_GTGAAA...\"`<br>\n",
    "`cat DTP_3_GTGAAA* > DTP_3_GTGAAA.combined.fastq`<br>"
   ]
  },
  {
   "cell_type": "markdown",
   "metadata": {},
   "source": [
    "`esc`"
   ]
  },
  {
   "cell_type": "markdown",
   "metadata": {},
   "source": [
    "`:wq!`"
   ]
  },
  {
   "cell_type": "markdown",
   "metadata": {},
   "source": [
    "Now let's run the script we made for combining the files. We can either run with bash or by making our file executable"
   ]
  },
  {
   "cell_type": "markdown",
   "metadata": {},
   "source": [
    "`bash combine-fastq.sh`"
   ]
  },
  {
   "cell_type": "markdown",
   "metadata": {},
   "source": [
    "`chmod +x combine-fastq.sh`<br>\n",
    "`./combine-fastq.sh`"
   ]
  },
  {
   "cell_type": "markdown",
   "metadata": {},
   "source": [
    "If the script ran successfully, we should see 5 files with suffix combined.fastq"
   ]
  },
  {
   "cell_type": "markdown",
   "metadata": {},
   "source": [
    "### Run fastqc to check the quality of the reads we downloaded"
   ]
  },
  {
   "cell_type": "markdown",
   "metadata": {},
   "source": [
    "Check that fastqc is installed"
   ]
  },
  {
   "cell_type": "markdown",
   "metadata": {},
   "source": [
    "`which fastqc`"
   ]
  },
  {
   "cell_type": "markdown",
   "metadata": {},
   "source": [
    "Let's make a directory in our projects folder to store our fastqc results:"
   ]
  },
  {
   "cell_type": "markdown",
   "metadata": {},
   "source": [
    "mkdir ~/projects/fastqc"
   ]
  },
  {
   "cell_type": "markdown",
   "metadata": {},
   "source": [
    "Run fastqc to check the quality of your sequencing results. Remember to specify the full path of where your datasets are stored and where you want the processed data to end up. You will have to do this one one file at a time. REMEMBER TO USE TABS TO AVOID TYPOS! The -o argument is used to specify the location of the output files.\n"
   ]
  },
  {
   "cell_type": "markdown",
   "metadata": {},
   "source": [
    "`fastqc ~/scratch/raw_data/DMSO_1_ATCACG.combined.fastq -o ~/projects/fastqc/`"
   ]
  },
  {
   "cell_type": "markdown",
   "metadata": {},
   "source": [
    "#### Copy file outputs to your desktop so you can view the output in a web browser"
   ]
  },
  {
   "cell_type": "markdown",
   "metadata": {},
   "source": [
    "*Windows users*"
   ]
  },
  {
   "cell_type": "markdown",
   "metadata": {},
   "source": [
    "Follow these [instructions](https://docs.google.com/document/d/1Ew4n1ThHNumyBVqSRwMluDWHKDqfZBOAhrzMYJ4KrDM/edit?usp=sharing) to copy over the fastqc files:"
   ]
  },
  {
   "cell_type": "markdown",
   "metadata": {},
   "source": [
    "*For Linux and Mac users*"
   ]
  },
  {
   "cell_type": "markdown",
   "metadata": {},
   "source": [
    "Here is an example below. scp is a bash command, the syntax is always:"
   ]
  },
  {
   "cell_type": "markdown",
   "metadata": {},
   "source": [
    "`scp sourcefile destinationfile`"
   ]
  },
  {
   "cell_type": "markdown",
   "metadata": {},
   "source": [
    "This is the same syntax that you learned for cp (copy), but there is one added step for scp (secure copy). Since in this instance, the sourcefile is on tscc, you need to include your login information followed by a colon before the full path of the file you would like to move. "
   ]
  },
  {
   "cell_type": "markdown",
   "metadata": {},
   "source": [
    "On your local machine (NOT TSCC). Make a folder where you want this data to land and move into it. In this example, I am copying data into a folder on my desktop called mstp_bioinformatics. Keep in mind this folder must exist before you try to copy something into it. Make sure you are running this command from your local machine (NOT TSCC).\n",
    "\n",
    "Open another terminal window and DO NOT log into TSCC"
   ]
  },
  {
   "cell_type": "markdown",
   "metadata": {},
   "source": [
    "`mkdir ~/Desktop/mstp_bioinformatics`"
   ]
  },
  {
   "cell_type": "markdown",
   "metadata": {},
   "source": [
    "`cd ~/Desktop/mstp_bioinformatics`"
   ]
  },
  {
   "cell_type": "markdown",
   "metadata": {},
   "source": [
    "`scp ucsd-train##@tscc-login.sdsc.edu:~/projects/fastqc/*.html .`"
   ]
  },
  {
   "cell_type": "markdown",
   "metadata": {},
   "source": [
    "Notice the * at the end of the line. This is a wild-card character. This will copy all files that have the same prefix. The destination file is simply “.” meaning the file that we are currently sitting in on our home computer. This is because we first moved into the directory where we want these files to be copied to.\n",
    "\n",
    "The most common error message associated with this command will be that the file or destination does not exist. When possible, use tabs to make sure you are avoiding typos. Also copy and paste directories directly works well. If you are getting this error, check what you wrote and copy that full path onto tscc. You can check if you typed it right with,\n"
   ]
  }
 ],
 "metadata": {
  "kernelspec": {
   "display_name": "Python 3",
   "language": "python",
   "name": "python3"
  },
  "language_info": {
   "codemirror_mode": {
    "name": "ipython",
    "version": 3
   },
   "file_extension": ".py",
   "mimetype": "text/x-python",
   "name": "python",
   "nbconvert_exporter": "python",
   "pygments_lexer": "ipython3",
   "version": "3.7.3"
  }
 },
 "nbformat": 4,
 "nbformat_minor": 2
}
