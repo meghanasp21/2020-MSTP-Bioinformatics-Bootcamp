{
 "cells": [
  {
   "cell_type": "markdown",
   "metadata": {},
   "source": [
    "## Introduction to Unix and Bash"
   ]
  },
  {
   "cell_type": "markdown",
   "metadata": {},
   "source": [
    "### What is Unix?"
   ]
  },
  {
   "cell_type": "markdown",
   "metadata": {},
   "source": [
    "Unix is a widely used multiuser operating system. It was invented in the late 1960s, and preceded the “graphical user interface” that we use regularly on our modern computers. We know this typing and command issuing environment as a “command-line interface,” which allows for the easy point-and-click, icon-based interactions with our computers. We will use a interpreter/command language called Bash to operate Unix."
   ]
  },
  {
   "cell_type": "markdown",
   "metadata": {},
   "source": [
    "There are many variations of Unix, that we collectively call Unix-based operating systems (macOS, Linux), though the basic functions are similar between them."
   ]
  },
  {
   "cell_type": "markdown",
   "metadata": {},
   "source": [
    "### The Terminal"
   ]
  },
  {
   "cell_type": "markdown",
   "metadata": {},
   "source": [
    "\n",
    "The terminal is a text-only environment on your computer that allows you to type \"input\" using your keyboard and read the resulting \"outputs\"."
   ]
  },
  {
   "cell_type": "markdown",
   "metadata": {},
   "source": [
    "Before we can see exactly what I'm talking about, we need to open a terminal window on your computer. Let's also try logging onto TSCC to do some of these exercises."
   ]
  },
  {
   "cell_type": "markdown",
   "metadata": {},
   "source": [
    "#### For Mac:"
   ]
  },
  {
   "cell_type": "markdown",
   "metadata": {},
   "source": [
    "Navigate to: Applications - Utilities - Terminal"
   ]
  },
  {
   "cell_type": "markdown",
   "metadata": {},
   "source": [
    "In your terminal window, type:"
   ]
  },
  {
   "cell_type": "markdown",
   "metadata": {},
   "source": [
    "`ssh ucsd-train##@tscc-login.sdsc.edu`"
   ]
  },
  {
   "cell_type": "markdown",
   "metadata": {},
   "source": [
    "Replace the ## with your own training account number."
   ]
  },
  {
   "cell_type": "markdown",
   "metadata": {},
   "source": [
    "#### For Windows:"
   ]
  },
  {
   "cell_type": "markdown",
   "metadata": {},
   "source": [
    "Make sure that you have [PuTTY](https://www.chiark.greenend.org.uk/~sgtatham/putty/latest.html) installed. You can find these instructions in your pre-class instructions (Module0_PreClass)"
   ]
  },
  {
   "cell_type": "markdown",
   "metadata": {},
   "source": [
    "In the \"HostName\" field enter ucsd-train##@tscc-login.sdsc.edu (remember to put your specific number in place of ##)."
   ]
  },
  {
   "cell_type": "markdown",
   "metadata": {},
   "source": [
    "In the \"Saved Sessions\" field, type tscc and click Save."
   ]
  },
  {
   "cell_type": "markdown",
   "metadata": {},
   "source": [
    "In the left hand panel, click through Connection - SSH - Auth"
   ]
  },
  {
   "cell_type": "markdown",
   "metadata": {},
   "source": [
    "In the \"Private key file for authentication:\" field, use the Browse button to find the private key file you have saved in step 2. You might have to change the file type to \"all files\" in the bottom right corner to see the files you have saved. Click on \"private.pkk\" and select Open."
   ]
  },
  {
   "cell_type": "markdown",
   "metadata": {},
   "source": [
    "Now you are back in the PuTTY window. Click \"Open\""
   ]
  },
  {
   "cell_type": "markdown",
   "metadata": {},
   "source": [
    "Enter the password that you chose when you generated your key to get us on TSCC!"
   ]
  },
  {
   "cell_type": "markdown",
   "metadata": {},
   "source": [
    "\n",
    "You should have something like this on the left-hand side:"
   ]
  },
  {
   "cell_type": "markdown",
   "metadata": {},
   "source": [
    "`[ucsd-train40@tscc-login2 ~]$`"
   ]
  },
  {
   "cell_type": "markdown",
   "metadata": {},
   "source": [
    "\n",
    "If all looks good, we can now move on to executing some commands (!)"
   ]
  },
  {
   "cell_type": "markdown",
   "metadata": {},
   "source": [
    "While we will cover some of the essential commands, there are others which are also very useful to know. A quick overview can be found [here](http://cheatsheetworld.com/programming/unix-linux-cheat-sheet/)"
   ]
  },
  {
   "cell_type": "markdown",
   "metadata": {},
   "source": [
    "### Basic commands"
   ]
  },
  {
   "cell_type": "markdown",
   "metadata": {},
   "source": [
    "*Where are you currently?*"
   ]
  },
  {
   "cell_type": "markdown",
   "metadata": {},
   "source": [
    "When using a terminal you will always be inside a folder, or directory. But, at any given time, you may lose track of what directory you are currently in. To do so, we must use \"print working directory\", or pwd:"
   ]
  },
  {
   "cell_type": "markdown",
   "metadata": {},
   "source": [
    "`pwd`"
   ]
  },
  {
   "cell_type": "markdown",
   "metadata": {},
   "source": [
    "What does your output look like? This is mine:"
   ]
  },
  {
   "cell_type": "markdown",
   "metadata": {},
   "source": [
    "`/home/ucsd-train48`"
   ]
  },
  {
   "cell_type": "markdown",
   "metadata": {},
   "source": [
    "This is my current, or working, directory. It also happens to be my home directory, or starting point when I log into TSCC. Luckily, we have a shortcut to get back to this point, which is marked by a tilde (~). So, if we ever wanted to get back to this directory from any point on the computer, we would simply type:"
   ]
  },
  {
   "cell_type": "markdown",
   "metadata": {},
   "source": [
    "`cd ~`"
   ]
  },
  {
   "cell_type": "markdown",
   "metadata": {},
   "source": [
    "`pwd`"
   ]
  },
  {
   "cell_type": "markdown",
   "metadata": {},
   "source": [
    "*Where can we go?*"
   ]
  },
  {
   "cell_type": "markdown",
   "metadata": {},
   "source": [
    "Now that we know where we are, we should try and see what folders are in my working directory:"
   ]
  },
  {
   "cell_type": "markdown",
   "metadata": {},
   "source": [
    "`ls`"
   ]
  },
  {
   "cell_type": "markdown",
   "metadata": {},
   "source": [
    "What do you see?"
   ]
  },
  {
   "cell_type": "markdown",
   "metadata": {},
   "source": [
    "You accounts will probable be empty since you're brand new to your training accounts. So let's start making things in our working directories!"
   ]
  },
  {
   "cell_type": "markdown",
   "metadata": {},
   "source": [
    "#### Making and navigating directories"
   ]
  },
  {
   "cell_type": "markdown",
   "metadata": {},
   "source": [
    "Let's make a new directory in our own home directory called \"bootcamp\" using the command mkdir:"
   ]
  },
  {
   "cell_type": "markdown",
   "metadata": {},
   "source": [
    "`mkdir bootcamp`"
   ]
  },
  {
   "cell_type": "markdown",
   "metadata": {},
   "source": [
    "Let's use ls to see what our home directory looks like now:"
   ]
  },
  {
   "cell_type": "markdown",
   "metadata": {},
   "source": [
    "`ls`"
   ]
  },
  {
   "cell_type": "markdown",
   "metadata": {},
   "source": [
    "`bootcamp`"
   ]
  },
  {
   "cell_type": "markdown",
   "metadata": {},
   "source": [
    "You have now created a new directory, or folder, on your Desktop. Let's navigate to another directory on the command-line by using the command cd, or change directory:"
   ]
  },
  {
   "cell_type": "markdown",
   "metadata": {},
   "source": [
    "`cd bootcamp`"
   ]
  },
  {
   "cell_type": "markdown",
   "metadata": {},
   "source": [
    "Try pwd again. You'll absolute path will be different than before."
   ]
  },
  {
   "cell_type": "markdown",
   "metadata": {},
   "source": [
    "`pwd`"
   ]
  },
  {
   "cell_type": "markdown",
   "metadata": {},
   "source": [
    "`/home/ucsd-train48/bootcamp`"
   ]
  },
  {
   "cell_type": "markdown",
   "metadata": {},
   "source": [
    "You are now in the directory, or folder that you just created. This is how you will make new directories to properly organize your own workspace. When naming a new directory, it is always a good idea to separate words by an underscore ( _ ) to prevent unsual notation. For instance:"
   ]
  },
  {
   "cell_type": "markdown",
   "metadata": {},
   "source": [
    "`mkdir new_directory`"
   ]
  },
  {
   "cell_type": "markdown",
   "metadata": {},
   "source": [
    "As opposed to:"
   ]
  },
  {
   "cell_type": "markdown",
   "metadata": {},
   "source": [
    "`mkdir new directory`"
   ]
  },
  {
   "cell_type": "markdown",
   "metadata": {},
   "source": [
    "You can also make many levels of subdirectories simultaneously using the mkdir command, but need to add an additional note, or flag, to do it in one command:"
   ]
  },
  {
   "cell_type": "markdown",
   "metadata": {},
   "source": [
    "`mkdir -p test1/test2/test3`"
   ]
  },
  {
   "cell_type": "markdown",
   "metadata": {},
   "source": [
    "This can be a fast way of creating new directories several levels lower without having to first navigate to the level immediately below the one you started in."
   ]
  },
  {
   "cell_type": "markdown",
   "metadata": {},
   "source": [
    "To move back up a level in your directory hierarchy, you will use two periods \"..\" to do so:"
   ]
  },
  {
   "cell_type": "markdown",
   "metadata": {},
   "source": [
    "`cd ..`"
   ]
  },
  {
   "cell_type": "markdown",
   "metadata": {},
   "source": [
    "This will move you up one level. To move up two levels simply use \"..\" separated by a \"/\""
   ]
  },
  {
   "cell_type": "markdown",
   "metadata": {},
   "source": [
    "`cd ../..`"
   ]
  },
  {
   "cell_type": "markdown",
   "metadata": {},
   "source": [
    "This will allow us to change our relative path, or location relative to where we are now. Compare this to out absolute path, where the entire path is defined in identifying our absolute location. We can also change location to any other directory (in the following example, the directory \"test3\" from our current location (say our home directory ~ ), so long as we provide an absolute path."
   ]
  },
  {
   "cell_type": "markdown",
   "metadata": {},
   "source": [
    "`cd ~`"
   ]
  },
  {
   "cell_type": "markdown",
   "metadata": {},
   "source": [
    "`cd ~/bootcamp/test1/test2/`"
   ]
  },
  {
   "cell_type": "markdown",
   "metadata": {},
   "source": [
    "`pwd`"
   ]
  },
  {
   "cell_type": "markdown",
   "metadata": {},
   "source": [
    "`/home/ucsd-train48/bootcamp/test1/test2`"
   ]
  },
  {
   "cell_type": "markdown",
   "metadata": {},
   "source": [
    "#### Making a new file with text editor "
   ]
  },
  {
   "cell_type": "markdown",
   "metadata": {},
   "source": [
    "Now that we're in our new directory, let's make a blank text file here. To do so, we will use vi, one of many text editor applications. Others include Emacs and nano (mentioned in this [Unix tutorial](http://korflab.ucdavis.edu/bootcamp.html), and each have their own unique feels. For this module, however, we will stick with using vi."
   ]
  },
  {
   "cell_type": "markdown",
   "metadata": {},
   "source": [
    "`cd ~/bootcamp/`"
   ]
  },
  {
   "cell_type": "markdown",
   "metadata": {},
   "source": [
    "`vi test_file.txt`"
   ]
  },
  {
   "cell_type": "markdown",
   "metadata": {},
   "source": [
    "This will open a blank screen with several ~ on the left-hand side:"
   ]
  },
  {
   "cell_type": "markdown",
   "metadata": {},
   "source": [
    "`\n",
    "~                                                                                                                  \n",
    "~                                                                                                                  \n",
    "~                                                                                                                  \n",
    "~                                                                                                                  \n",
    "~                                                                                                                  \n",
    "~                                                                                                                  \n",
    "~                                                                                                                  \n",
    "~                                                                                                                  \n",
    "~                                                                                                                  \n",
    "~                                                                                                                  \n",
    "~                                                                                                                  \n",
    "~                                                                                                                  \n",
    "\"test_file.txt\" [New File]  `"
   ]
  },
  {
   "cell_type": "markdown",
   "metadata": {},
   "source": [
    "This is the text file (test_file.txt) that you just created. The filename will be displayed in the bottom left hand corner with a [New File] label. You can use the arrow keys to move the cursor around the file. You can edit the contents of your document by entering Insert mode by pressing \"i\", followed by typing in whatver you would like. To leave, we can press esc, followed by :wq to save and quit(w to save, q to quit). Let's try:"
   ]
  },
  {
   "cell_type": "markdown",
   "metadata": {},
   "source": [
    "`i`"
   ]
  },
  {
   "cell_type": "markdown",
   "metadata": {},
   "source": [
    "`I am writing in a new text file`"
   ]
  },
  {
   "cell_type": "markdown",
   "metadata": {},
   "source": [
    "`esc`"
   ]
  },
  {
   "cell_type": "markdown",
   "metadata": {},
   "source": [
    "`:wq!`"
   ]
  },
  {
   "cell_type": "markdown",
   "metadata": {},
   "source": [
    "This will take you back to your bootcamp directory. Did it work? Let's check by looking at the contents of our directory using:"
   ]
  },
  {
   "cell_type": "markdown",
   "metadata": {},
   "source": [
    "`ls`"
   ]
  },
  {
   "cell_type": "markdown",
   "metadata": {},
   "source": [
    "Mine says:"
   ]
  },
  {
   "cell_type": "markdown",
   "metadata": {},
   "source": [
    "`test_file.txt`"
   ]
  },
  {
   "cell_type": "markdown",
   "metadata": {},
   "source": [
    "#### Viewing files"
   ]
  },
  {
   "cell_type": "markdown",
   "metadata": {},
   "source": [
    "Let's take a look at the contents of our text file."
   ]
  },
  {
   "cell_type": "markdown",
   "metadata": {},
   "source": [
    "`cat test_file.txt`"
   ]
  },
  {
   "cell_type": "markdown",
   "metadata": {},
   "source": [
    "It should look something like"
   ]
  },
  {
   "cell_type": "markdown",
   "metadata": {},
   "source": [
    "`I am writing in a new text file`"
   ]
  },
  {
   "cell_type": "markdown",
   "metadata": {},
   "source": [
    "**cat** is the simplest command to view a file in Linux. It simply prints the content of files. This is ok in this situation where our file is only 1 line, but imagine if we have a file with millions of lines, your screen will be flooded."
   ]
  },
  {
   "cell_type": "markdown",
   "metadata": {},
   "source": [
    "Another popular command to view files is **less**. Less command view the file one page at a time and you can exit by pressing q. There are no lines displayed on your screen."
   ]
  },
  {
   "cell_type": "markdown",
   "metadata": {},
   "source": [
    "`less test_file.txt`"
   ]
  },
  {
   "cell_type": "markdown",
   "metadata": {},
   "source": [
    "`q`"
   ]
  },
  {
   "cell_type": "markdown",
   "metadata": {},
   "source": [
    "What if you want to print just the first or last 10 lines of a file. **head** and **tail** are good linux commands for this purpose. Head prints the first n lines of a file and tail prints the last n lines of a file."
   ]
  },
  {
   "cell_type": "markdown",
   "metadata": {},
   "source": [
    "`head test_file.txt`"
   ]
  },
  {
   "cell_type": "markdown",
   "metadata": {},
   "source": [
    "`tail test_file.txt`"
   ]
  },
  {
   "cell_type": "markdown",
   "metadata": {},
   "source": [
    "By default 10 lines are printed, you can change the number of lines printed with a flag. A flag is a - (or --) followed by a letter or word that affects how your command is run. Flags are specific to a commmand, and so need to be looked up in order to be used to their full potential. To find out more about a specific program's flags, use the man function in front of the command name. For instance:"
   ]
  },
  {
   "cell_type": "markdown",
   "metadata": {},
   "source": [
    "`man head`"
   ]
  },
  {
   "cell_type": "markdown",
   "metadata": {},
   "source": [
    "How can we change the number of lines printed?"
   ]
  },
  {
   "cell_type": "markdown",
   "metadata": {},
   "source": [
    "`head -n 20 test_file.txt`"
   ]
  },
  {
   "cell_type": "markdown",
   "metadata": {},
   "source": [
    "`tail -n 20 test_file.txt`"
   ]
  },
  {
   "cell_type": "markdown",
   "metadata": {},
   "source": [
    "#### Editing a file"
   ]
  },
  {
   "cell_type": "markdown",
   "metadata": {},
   "source": [
    "Let's go back and edit the text file we just made:"
   ]
  },
  {
   "cell_type": "markdown",
   "metadata": {},
   "source": [
    "`vi test_file.txt`"
   ]
  },
  {
   "cell_type": "markdown",
   "metadata": {},
   "source": [
    "`i`"
   ]
  },
  {
   "cell_type": "markdown",
   "metadata": {},
   "source": [
    "Use your arrow keys to go to the end of the prompt, delete what we wrote previously with backspace, and write:"
   ]
  },
  {
   "cell_type": "markdown",
   "metadata": {},
   "source": [
    "`I am editing an existing text file`"
   ]
  },
  {
   "cell_type": "markdown",
   "metadata": {},
   "source": [
    "`esc`"
   ]
  },
  {
   "cell_type": "markdown",
   "metadata": {},
   "source": [
    "`:wq!`"
   ]
  },
  {
   "cell_type": "markdown",
   "metadata": {},
   "source": [
    "Let's look at our file now using either less, cat, head,or tail:"
   ]
  },
  {
   "cell_type": "markdown",
   "metadata": {},
   "source": [
    "You can see that we overwrote our original contents. This shows us that vi is a means to not only make new files, but to edit pre-existing ones too.\n",
    "\n",
    "OR, if after making corrections you decide to quit insert mode without saving changes, you can press esc, then follow with :q! (q to quit, ! to force):"
   ]
  },
  {
   "cell_type": "markdown",
   "metadata": {},
   "source": [
    "`vi test_file.txt`"
   ]
  },
  {
   "cell_type": "markdown",
   "metadata": {},
   "source": [
    "`i`"
   ]
  },
  {
   "cell_type": "markdown",
   "metadata": {},
   "source": [
    "`<make changes to file>`"
   ]
  },
  {
   "cell_type": "markdown",
   "metadata": {},
   "source": [
    "`esc`"
   ]
  },
  {
   "cell_type": "markdown",
   "metadata": {},
   "source": [
    "`:q!`"
   ]
  },
  {
   "cell_type": "markdown",
   "metadata": {},
   "source": [
    "#### Use tabs to complete"
   ]
  },
  {
   "cell_type": "markdown",
   "metadata": {},
   "source": [
    "Many mistakes can be introduced due to typos. This is especially notable when receiving error messages that are a direct result providing the wrong location for input files. Thus, we try to rely on tabs to fill in what is already known by the computer. This will be essential when filling out absolute paths, or the series of directories that must be followed to get to a particular file. As an example, let's go from our home directory to our newly created file:"
   ]
  },
  {
   "cell_type": "markdown",
   "metadata": {},
   "source": [
    "`cd ~`"
   ]
  },
  {
   "cell_type": "markdown",
   "metadata": {},
   "source": [
    "Next we want to navigate to our newly made folder. If we begin typing \"bootcamp\", but press tab part-way through, our computer can fill out the rest if the word is unique:"
   ]
  },
  {
   "cell_type": "markdown",
   "metadata": {},
   "source": [
    "`cd boot<tab>`"
   ]
  },
  {
   "cell_type": "markdown",
   "metadata": {},
   "source": [
    "`cd bootcamp/`"
   ]
  },
  {
   "cell_type": "markdown",
   "metadata": {},
   "source": [
    "If there multiple files or directories that have the same prefix, you can press tab twice to see all the objects that fit this description. Then, you can add attional characters and use tab complete to go to the file or directory of interest."
   ]
  },
  {
   "cell_type": "markdown",
   "metadata": {},
   "source": [
    "`less test<tab><tab>`"
   ]
  },
  {
   "cell_type": "markdown",
   "metadata": {},
   "source": [
    "`test1/         test_file.txt `"
   ]
  },
  {
   "cell_type": "markdown",
   "metadata": {},
   "source": [
    "`less test_<tab>`"
   ]
  },
  {
   "cell_type": "markdown",
   "metadata": {},
   "source": [
    "`less test_file.txt`"
   ]
  },
  {
   "cell_type": "markdown",
   "metadata": {},
   "source": [
    "This is a very useful way to adavnce without making any careless typos. We call also use tabs to list the contents of a directory we are interested in looking into next:"
   ]
  },
  {
   "cell_type": "markdown",
   "metadata": {},
   "source": [
    "`cd /home/ucsd-train48/<tab><tab>`"
   ]
  },
  {
   "cell_type": "markdown",
   "metadata": {},
   "source": [
    "This will display all the files in your home directory, even the hidden ones (file names begin with a \".\")"
   ]
  },
  {
   "cell_type": "markdown",
   "metadata": {},
   "source": [
    "**I promise that tab completion will make your work (and thus your life) much, much easier!**"
   ]
  },
  {
   "cell_type": "markdown",
   "metadata": {},
   "source": [
    "#### Copying a file"
   ]
  },
  {
   "cell_type": "markdown",
   "metadata": {},
   "source": [
    "Let's make a copy of our text file that we can call test_file_2.txt. We can do this using the following syntax:"
   ]
  },
  {
   "cell_type": "markdown",
   "metadata": {},
   "source": [
    "`cd bootcamp`"
   ]
  },
  {
   "cell_type": "markdown",
   "metadata": {},
   "source": [
    "`cp test_file.txt test_file_2.txt`"
   ]
  },
  {
   "cell_type": "markdown",
   "metadata": {},
   "source": [
    "We should now have two identical copies of the same file in the same directory. Copying will follow the general structure of:"
   ]
  },
  {
   "cell_type": "markdown",
   "metadata": {},
   "source": [
    "`cp source_file_name destination_file_name`"
   ]
  },
  {
   "cell_type": "markdown",
   "metadata": {},
   "source": [
    "#### Moving/renaming a file/directory"
   ]
  },
  {
   "cell_type": "markdown",
   "metadata": {},
   "source": [
    "If we want to move a file, we can do so using the mv command:"
   ]
  },
  {
   "cell_type": "markdown",
   "metadata": {},
   "source": [
    "`mv file.txt new_destination/`"
   ]
  },
  {
   "cell_type": "markdown",
   "metadata": {},
   "source": [
    "Let's try this with one of our text files:"
   ]
  },
  {
   "cell_type": "markdown",
   "metadata": {},
   "source": [
    "`mkdir move_file`\n",
    "`mv test_file.txt move_file/`\n",
    "`cd move_file/`\n",
    "`ls`"
   ]
  },
  {
   "cell_type": "markdown",
   "metadata": {},
   "source": [
    "The \"mv\" command also works for renaming files. For instance, if we wanted to rename test_file.txt to really_interesting_file.txt, we would just enter:"
   ]
  },
  {
   "cell_type": "markdown",
   "metadata": {},
   "source": [
    "`mv test_file.txt really_interesting_file.txt`"
   ]
  },
  {
   "cell_type": "markdown",
   "metadata": {},
   "source": [
    "The contents of the file will be exactly he same, but its name will now be different. These principles also apply for moving and renaming directories."
   ]
  },
  {
   "cell_type": "markdown",
   "metadata": {},
   "source": [
    "#### Deleting a file"
   ]
  },
  {
   "cell_type": "markdown",
   "metadata": {},
   "source": [
    "To remove a file, we use a command known as rm. Simply make sure that you are in the directory that houses the file that you wish to delete, and perform the following:"
   ]
  },
  {
   "cell_type": "markdown",
   "metadata": {},
   "source": [
    "`rm interesting_file.txt`"
   ]
  },
  {
   "cell_type": "markdown",
   "metadata": {},
   "source": [
    "To remove a directory, you may still use rm, though you will need to provide the -r flag to remove recursively:"
   ]
  },
  {
   "cell_type": "markdown",
   "metadata": {},
   "source": [
    "`cd ~`"
   ]
  },
  {
   "cell_type": "markdown",
   "metadata": {},
   "source": [
    "`rm -r bootcamp`"
   ]
  },
  {
   "cell_type": "markdown",
   "metadata": {},
   "source": [
    "Be absolutely sure that you are prepared to lose this file or directory in question as it will be impossible to recover after deletion."
   ]
  },
  {
   "cell_type": "markdown",
   "metadata": {},
   "source": [
    "### Organize your home directory"
   ]
  },
  {
   "cell_type": "markdown",
   "metadata": {},
   "source": [
    "Organization is a really difficult thing in computational biology, and everyone has their own preferences on how to organize files. I recommend making at least two three folders in your home in addition to sub-folders within your projects directory as we add new projects. Really it doesn't matter how you do this, as long as your are organized and understand your own setup. For the purposes of this class, it is easiest for discussion if we are all operating under the same setup."
   ]
  },
  {
   "cell_type": "markdown",
   "metadata": {},
   "source": [
    "Make **3 directories in your home directory named scripts, projects and raw_data**"
   ]
  },
  {
   "cell_type": "markdown",
   "metadata": {},
   "source": [
    "`mkdir ~/projects`<br>\n",
    "`mkdir ~/scripts`<br>\n",
    "`mkdir ~/raw_data`<br>"
   ]
  },
  {
   "cell_type": "markdown",
   "metadata": {},
   "source": [
    "#### Making softlinks"
   ]
  },
  {
   "cell_type": "markdown",
   "metadata": {},
   "source": [
    "Softlinks are a great way to easily access files without copying the entire thing into a new directory. Copying files uses a lot of unnecessary space, but sometimes it is annoying to have to give the full path of a filename every time you want to use it. To get around this, we make a softlink which is a pointer to the real file that you can put wherever you want that doesn't require the space of the full file. Since we will be using scratch a lot, we are going to make a softlink to that file in our home.\n",
    "To make a softlink:\n"
   ]
  },
  {
   "cell_type": "markdown",
   "metadata": {},
   "source": [
    "`ln -s sourcefilename destination`"
   ]
  },
  {
   "cell_type": "markdown",
   "metadata": {},
   "source": [
    "Now let's make a softlink to our scratch directories in our home directory"
   ]
  },
  {
   "cell_type": "markdown",
   "metadata": {},
   "source": [
    "`ln -s /oasis/tscc/scratch/ucsd-train## ~/scratch`"
   ]
  },
  {
   "cell_type": "markdown",
   "metadata": {},
   "source": [
    "Check the softlink worked properly:"
   ]
  },
  {
   "cell_type": "markdown",
   "metadata": {},
   "source": [
    "`ls -l scratch`"
   ]
  },
  {
   "cell_type": "markdown",
   "metadata": {},
   "source": [
    "My ouput looks like this:"
   ]
  },
  {
   "cell_type": "markdown",
   "metadata": {},
   "source": [
    "`lrwxrwxrwx 1 ucsd-train48 biom262-group 33 Jul  2 08:25 scratch -> /oasis/tscc/scratch/ucsd-train48/`"
   ]
  },
  {
   "cell_type": "markdown",
   "metadata": {},
   "source": [
    "This section only scratches the surface of what we can do with Unix/bash. For some more helpful hints, try looking [here](https://learncodethehardway.org/unix/bash_cheat_sheet.pdf) for some useful tricks. To get a better sense of other Unix-based things you can do that we were unable to cover completely in class, check out UC Davis' Command-line Bootcamp page [here](http://korflab.ucdavis.edu/bootcamp.html)."
   ]
  },
  {
   "cell_type": "code",
   "execution_count": null,
   "metadata": {},
   "outputs": [],
   "source": []
  },
  {
   "cell_type": "code",
   "execution_count": null,
   "metadata": {},
   "outputs": [],
   "source": []
  },
  {
   "cell_type": "code",
   "execution_count": null,
   "metadata": {},
   "outputs": [],
   "source": []
  }
 ],
 "metadata": {
  "kernelspec": {
   "display_name": "Python 3",
   "language": "python",
   "name": "python3"
  },
  "language_info": {
   "codemirror_mode": {
    "name": "ipython",
    "version": 3
   },
   "file_extension": ".py",
   "mimetype": "text/x-python",
   "name": "python",
   "nbconvert_exporter": "python",
   "pygments_lexer": "ipython3",
   "version": "3.7.3"
  }
 },
 "nbformat": 4,
 "nbformat_minor": 2
}
