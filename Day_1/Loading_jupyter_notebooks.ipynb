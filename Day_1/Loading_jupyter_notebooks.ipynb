{
 "cells": [
  {
   "cell_type": "markdown",
   "metadata": {},
   "source": [
    "## Opening Jupyter Notebooks on TSCC"
   ]
  },
  {
   "cell_type": "markdown",
   "metadata": {},
   "source": [
    "[Jupyter](https://jupyter.org/) notebooks are a great tool to keep track of the workflow for your data analysis. You can load up your results, maniplate them, make pretty figures, export your final data and figures to a file, all in one place!\n",
    "\n",
    "Jupyter came installed by default when we downloaded anaconda, so no more installations will be necessary. You can see the executibles for jupyter in your anaconda bin."
   ]
  },
  {
   "cell_type": "markdown",
   "metadata": {},
   "source": [
    "`ls ~/anaconda2/bin`"
   ]
  },
  {
   "cell_type": "markdown",
   "metadata": {},
   "source": [
    "#### 1) To start a notebook, on TSCC run the following command. "
   ]
  },
  {
   "cell_type": "markdown",
   "metadata": {},
   "source": [
    "Replace the 4-digit number at the end with a random number between 2000 and 9999. Do a good job of picking randomly! If anyone else is using this number, you will be bumped to the next higher available number. **Recommended:** Add the '&' sign at the end of the line to allow this command to \"run in the background\". Without it, you will not be able to return to the command line while running a notebook in this window. If you choose not to run it in the background, just start a new tab in your terminal, re-login to TSCC, and run your commands there."
   ]
  },
  {
   "cell_type": "markdown",
   "metadata": {},
   "source": [
    "`jupyter notebook --no-browser --port #### &`"
   ]
  },
  {
   "cell_type": "markdown",
   "metadata": {},
   "source": [
    "What a minute for the following to appear on your screen:"
   ]
  },
  {
   "cell_type": "markdown",
   "metadata": {},
   "source": [
    "[I 10:40:45.728 NotebookApp] JupyterLab extension loaded from /home/ucsd-train48/anaconda2/lib/python2.7/site-packages/jupyterlab<br>\n",
    "[I 10:40:45.728 NotebookApp] JupyterLab application directory is /home/ucsd-train48/anaconda2/share/jupyter/lab<br>\n",
    "[I 10:40:45.742 NotebookApp] Serving notebooks from local directory: /home/ucsd-train48<br>\n",
    "[I 10:40:45.742 NotebookApp] The Jupyter Notebook is running at:<br>\n",
    "[I 10:40:45.742 NotebookApp] http://localhost:3466/?token=836b0257efe8db5bf01054590286bf7e5dbc1dc1242aa086<br>\n",
    "[I 10:40:45.742 NotebookApp] Use Control-C to stop this server and shut down all kernels (twice to skip confirmation).<br>\n",
    "[C 10:40:45.875 NotebookApp] <br>\n",
    "    \n",
    "    To access the notebook, open this file in a browser:\n",
    "        file:///home/ucsd-train48/.local/share/jupyter/runtime/nbserver-212035-open.html\n",
    "    Or copy and paste one of these URLs:\n",
    "        http://localhost:3466/?token=836b0257efe8db5bf01054590286bf7e5dbc1dc1242aa086\n"
   ]
  },
  {
   "cell_type": "markdown",
   "metadata": {},
   "source": [
    "#### 2) Pay attention to the number after login on your command line. "
   ]
  },
  {
   "cell_type": "markdown",
   "metadata": {},
   "source": [
    "his is your login node. TSCC has multiple login nodes and you are randomly assigned one when logging into tscc. However, we need to tunnel with the same login node, so this number is important for the next step. In this example, I am on login node 11."
   ]
  },
  {
   "cell_type": "markdown",
   "metadata": {},
   "source": [
    "`[ucsd-train48@tscc-login11 ~]$`"
   ]
  },
  {
   "cell_type": "markdown",
   "metadata": {},
   "source": [
    "#### 3) Now move to a new tab on your local machine (not TSCC)"
   ]
  },
  {
   "cell_type": "markdown",
   "metadata": {},
   "source": [
    "##### MAC"
   ]
  },
  {
   "cell_type": "markdown",
   "metadata": {},
   "source": [
    "We are going to tunnel our connection through our local laptop in order to view Jupyter notebooks in a web browser. Remember, TSCC does not have a web interface so we have to take this extra step. Run the following command:"
   ]
  },
  {
   "cell_type": "markdown",
   "metadata": {},
   "source": [
    "`ssh -NL ####:localhost:#### ucsd-train##@tscc-login#.sdsc.edu`"
   ]
  },
  {
   "cell_type": "markdown",
   "metadata": {},
   "source": [
    "There are a couple things that will be specific to you. 1)The 4-digit numbers should be the same that you chose above. 2) The two numbers after ucsd-train should be the numbers you were assigned as your login username. 3) The number after login should be the specific node you found in step 3.\n",
    "\n",
    "You will prompted to enter your password. Do that to continue."
   ]
  },
  {
   "cell_type": "markdown",
   "metadata": {},
   "source": [
    "##### WINDOWS"
   ]
  },
  {
   "cell_type": "markdown",
   "metadata": {},
   "source": [
    "Step 1: Create a new Putty session. So that you only need to have one Putty session open, we'll make a new TSCC Session. Create one with ucsd-train##@tscc-login#.sdsc.edu, and call the session \"TSCC Jupyter\"\n",
    "\n",
    "Step 2: Add your private key and allow forwarding Go to Connection > SSH > Auth > Load your private key file\n",
    "\n",
    "Step 3: Add a tunnel Go to \"Connnection > SSH > Tunnels\" Then: Click the checkbox next to \"Local ports accept connections from other ports\" Add your #### for your source port Add localhost:#### for your Destination Click \"Local\" Click \"Add\"\n",
    "\n",
    "Step 4: Save your settings! So you don't have to do this every time... Save your settings! Go all the way back to the \"Session\" window and click \"Save\" Remember to save this with a different name then your normal login information. Maybe \"tscc_jupyter\"\n",
    "\n",
    "Step 5: Click open and continue through the login information."
   ]
  },
  {
   "cell_type": "markdown",
   "metadata": {},
   "source": [
    "#### 4) Open a web browser"
   ]
  },
  {
   "cell_type": "markdown",
   "metadata": {},
   "source": [
    "In the URL link, type the following command with your specific 4 digit random number."
   ]
  },
  {
   "cell_type": "markdown",
   "metadata": {},
   "source": [
    "`localhost:####`"
   ]
  },
  {
   "cell_type": "markdown",
   "metadata": {},
   "source": [
    "#### 5) Success! You have now started a jupyter notebook! "
   ]
  },
  {
   "cell_type": "markdown",
   "metadata": {},
   "source": [
    "Look, you should be able to see your TSCC directory. Make a new folder in your home called jupyter_notebooks (either on this interface, or on the command line with mkdir). Move into that folder to start a new notebook. You can confirm that this notebook is running on TSCC with the following command:"
   ]
  },
  {
   "cell_type": "markdown",
   "metadata": {},
   "source": [
    "#### 6) Starting a notebook"
   ]
  },
  {
   "cell_type": "markdown",
   "metadata": {},
   "source": [
    "Play around with all the features of the notebooks that you see. We will work through these together initially. Notice when you select \"File - New Notebook\" You can select python to open a new python notebook."
   ]
  },
  {
   "cell_type": "markdown",
   "metadata": {},
   "source": [
    "#### 7) Exiting jupyter notebook"
   ]
  },
  {
   "cell_type": "markdown",
   "metadata": {},
   "source": [
    "If you **did not** run jupypter notebook in the background (i.e. include '&' at the end of your command), use Control-C to stop this server and shut down all kernels (twice to skip confirmation)..\n",
    "\n",
    "If you ran jupypter notebook in the background (i.e. included '&' at the end of your command), CTRL+C will not work to stop the server. You'll need to exit the server by 'killing' the jupyter notebook by first finding the PID then entering the kill command:"
   ]
  },
  {
   "cell_type": "markdown",
   "metadata": {},
   "source": [
    "`ps -u username`"
   ]
  },
  {
   "cell_type": "markdown",
   "metadata": {},
   "source": [
    "`For example my output looks like....`\n",
    "\n",
    "`  PID TTY          TIME CMD`<br>\n",
    "` 4758 ?        00:00:00 sshd`<br>\n",
    "` 4759 pts/108  00:00:00 bash`<br>\n",
    "`24349 ?        00:00:00 sshd`<br>\n",
    "`24350 pts/298  00:00:00 bash`<br>\n",
    "`40110 pts/136  00:00:01 jupyter-noteboo`<br>\n",
    "`40400 ?        00:00:02 sshd`<br>\n",
    "`40401 pts/209  00:00:00 bash`<br>\n",
    "`51978 pts/136  00:00:00 ps`<br>\n",
    "`60325 ?        00:00:00 sshd`<br>\n",
    "`60326 pts/136  00:00:00 bash`<br>"
   ]
  },
  {
   "cell_type": "markdown",
   "metadata": {},
   "source": [
    "If I want to kill my jupyter notebook I can do that with:"
   ]
  },
  {
   "cell_type": "markdown",
   "metadata": {},
   "source": [
    "`kill -9 40110`"
   ]
  },
  {
   "cell_type": "markdown",
   "metadata": {},
   "source": [
    "Notice 40110 is the PID of the notebook.\n",
    "\n",
    "Note: If you do not exit the server, your files are all safe :) But you won't be able to re-enter jupyter notebook with the same 4-digit number next time (you'll automatically get bumped to the next higher number available).\n",
    "\n",
    "You can also exit the stop the server and exit through the notebook."
   ]
  }
 ],
 "metadata": {
  "kernelspec": {
   "display_name": "Python 3",
   "language": "python",
   "name": "python3"
  },
  "language_info": {
   "codemirror_mode": {
    "name": "ipython",
    "version": 3
   },
   "file_extension": ".py",
   "mimetype": "text/x-python",
   "name": "python",
   "nbconvert_exporter": "python",
   "pygments_lexer": "ipython3",
   "version": "3.7.3"
  }
 },
 "nbformat": 4,
 "nbformat_minor": 2
}
