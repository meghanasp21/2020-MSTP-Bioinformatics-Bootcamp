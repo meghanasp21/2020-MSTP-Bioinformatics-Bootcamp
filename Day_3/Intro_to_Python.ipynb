{
 "cells": [
  {
   "cell_type": "markdown",
   "metadata": {},
   "source": [
    "# Introduction to Python"
   ]
  },
  {
   "cell_type": "markdown",
   "metadata": {},
   "source": [
    "Python is, just like R, an interpreted programming language. The emphasis behind Python is code readability and syntax which allows to write concepts in less lines of code.\n",
    "\n",
    "Currently there are two main versions of Python. The older, but still more commonly used is 2.7.X and the newer 3.X. When transitioning from 2.7 to 3.X a number of changes were made to the language such that it wasn't possible to just transfer all scripts. The same goes for most packages in Python which is why even though 2.7.X is no longer actively developped it is also not yet discontinued (the current end-of-life date is set to 2020).\n",
    "\n",
    "In this class we will be working with Python 2.7.13 which is still the default version when using the Anaconda installer."
   ]
  },
  {
   "cell_type": "markdown",
   "metadata": {},
   "source": [
    "# Python Data Types"
   ]
  },
  {
   "cell_type": "markdown",
   "metadata": {},
   "source": [
    "Numbers"
   ]
  },
  {
   "cell_type": "code",
   "execution_count": 1,
   "metadata": {},
   "outputs": [
    {
     "name": "stdout",
     "output_type": "stream",
     "text": [
      "5\n",
      "14\n",
      "15.2\n"
     ]
    }
   ],
   "source": [
    "5\n",
    "\n",
    "print 5\n",
    "\n",
    "a = 12\n",
    "\n",
    "print a + 2\n",
    "\n",
    "print a + 3.2"
   ]
  },
  {
   "cell_type": "markdown",
   "metadata": {},
   "source": [
    "Strings: String operations in Python are very fast (much faster than in R)"
   ]
  },
  {
   "cell_type": "code",
   "execution_count": 2,
   "metadata": {},
   "outputs": [
    {
     "name": "stdout",
     "output_type": "stream",
     "text": [
      "abc\n"
     ]
    }
   ],
   "source": [
    "my_string = 'a' + 'bc'\n",
    "print my_string"
   ]
  },
  {
   "cell_type": "markdown",
   "metadata": {},
   "source": [
    "Lists: can store multiple types and are mutable."
   ]
  },
  {
   "cell_type": "code",
   "execution_count": 5,
   "metadata": {},
   "outputs": [
    {
     "name": "stdout",
     "output_type": "stream",
     "text": [
      "3\n",
      "[123, 'someString', 4.5, 5, 6, 7]\n",
      "[123, 'someString', 4.5, '12']\n",
      "123\n",
      "[123, 'someString', 4.5]\n"
     ]
    }
   ],
   "source": [
    "my_list = [123, 'someString', 4.5]\n",
    "print len(my_list)\n",
    "\n",
    "print my_list + [5, 6, 7]\n",
    "my_list.append('12')\n",
    "print(my_list)\n",
    "print my_list[0]\n",
    "print my_list[0:3]"
   ]
  },
  {
   "cell_type": "markdown",
   "metadata": {},
   "source": [
    "Dictionaries: Have very fast lookup time!"
   ]
  },
  {
   "cell_type": "code",
   "execution_count": 6,
   "metadata": {},
   "outputs": [
    {
     "data": {
      "text/plain": [
       "'yes'"
      ]
     },
     "execution_count": 6,
     "metadata": {},
     "output_type": "execute_result"
    }
   ],
   "source": [
    "my_dictionary = {'apples' : 3, 'surfing' : 'yes'}\n",
    "my_dictionary['surfing']"
   ]
  },
  {
   "cell_type": "code",
   "execution_count": 7,
   "metadata": {},
   "outputs": [
    {
     "name": "stdout",
     "output_type": "stream",
     "text": [
      "{'running': 'nope', 'surfing': 'yes', 'apples': 3}\n"
     ]
    }
   ],
   "source": [
    "my_dictionary['running'] = 'nope'\n",
    "print my_dictionary"
   ]
  },
  {
   "cell_type": "markdown",
   "metadata": {},
   "source": [
    "Tuples: are similar to lists but immutable."
   ]
  },
  {
   "cell_type": "code",
   "execution_count": 11,
   "metadata": {},
   "outputs": [
    {
     "name": "stdout",
     "output_type": "stream",
     "text": [
      "(4, 3, 2, 1)\n",
      "1\n",
      "2\n"
     ]
    }
   ],
   "source": [
    "my_tuple = (4 ,3 ,2 ,1)\n",
    "print my_tuple\n",
    "print my_tuple.index(3)\n",
    "\n",
    "my_other_tuple = (7,8,9)\n",
    "print my_other_tuple.index(9)"
   ]
  },
  {
   "cell_type": "markdown",
   "metadata": {},
   "source": [
    "# Python Packages"
   ]
  },
  {
   "cell_type": "markdown",
   "metadata": {},
   "source": [
    "Similar to R, Python has good default capabilities which can become very powerful once you start adding packages. Some of the most commonly used packages are:"
   ]
  },
  {
   "cell_type": "code",
   "execution_count": 9,
   "metadata": {},
   "outputs": [],
   "source": [
    "import pandas as pd  # used generally for mixed data types\n",
    "import numpy as np  # used generally for pure numeric matrices"
   ]
  },
  {
   "cell_type": "code",
   "execution_count": 12,
   "metadata": {},
   "outputs": [],
   "source": [
    "data_dir = '/home/ucsd-train01/biom262_2019/Module_2/example_data/'\n",
    "\n",
    "# Use the pandas read_table function to read in your data. Make sure the\n",
    "# file name matches what your data is called on tscc and it is located in \n",
    "# the folder that you have defined as data_dir. \n",
    "\n",
    "# Use a commend to specify the character that comment lines start with... \n",
    "# we don't want to read those in. Set the gene_id as the index for this \n",
    "# dataframe with index_col=0\n",
    "# counts = pd.read_table(data_dir+\"all_counts.txt\", comment=\"#\", index_col=0)\n",
    "\n",
    "#  I prefer reading in data tables without having indeces\n",
    "counts = pd.read_csv(data_dir + \"tardbp_counts_only.csv\", comment=\"#\")"
   ]
  },
  {
   "cell_type": "code",
   "execution_count": 13,
   "metadata": {},
   "outputs": [
    {
     "name": "stdout",
     "output_type": "stream",
     "text": [
      "(19021, 5)\n"
     ]
    },
    {
     "data": {
      "text/html": [
       "<div>\n",
       "<style scoped>\n",
       "    .dataframe tbody tr th:only-of-type {\n",
       "        vertical-align: middle;\n",
       "    }\n",
       "\n",
       "    .dataframe tbody tr th {\n",
       "        vertical-align: top;\n",
       "    }\n",
       "\n",
       "    .dataframe thead th {\n",
       "        text-align: right;\n",
       "    }\n",
       "</style>\n",
       "<table border=\"1\" class=\"dataframe\">\n",
       "  <thead>\n",
       "    <tr style=\"text-align: right;\">\n",
       "      <th></th>\n",
       "      <th>Geneid</th>\n",
       "      <th>NT_shRNA_hepg2_rep1</th>\n",
       "      <th>NT_shRNA_hepg2_rep2</th>\n",
       "      <th>TARDBP_shRNA_hepg2_rep1</th>\n",
       "      <th>TARDBP_shRNA_hepg2_rep2</th>\n",
       "    </tr>\n",
       "  </thead>\n",
       "  <tbody>\n",
       "    <tr>\n",
       "      <th>0</th>\n",
       "      <td>ENSG00000227232.5_2</td>\n",
       "      <td>27</td>\n",
       "      <td>42</td>\n",
       "      <td>40</td>\n",
       "      <td>35</td>\n",
       "    </tr>\n",
       "    <tr>\n",
       "      <th>1</th>\n",
       "      <td>ENSG00000238009.6_6</td>\n",
       "      <td>0</td>\n",
       "      <td>4</td>\n",
       "      <td>4</td>\n",
       "      <td>8</td>\n",
       "    </tr>\n",
       "    <tr>\n",
       "      <th>2</th>\n",
       "      <td>ENSG00000237683.5</td>\n",
       "      <td>22</td>\n",
       "      <td>20</td>\n",
       "      <td>16</td>\n",
       "      <td>27</td>\n",
       "    </tr>\n",
       "    <tr>\n",
       "      <th>3</th>\n",
       "      <td>ENSG00000239906.1_5</td>\n",
       "      <td>6</td>\n",
       "      <td>2</td>\n",
       "      <td>3</td>\n",
       "      <td>7</td>\n",
       "    </tr>\n",
       "    <tr>\n",
       "      <th>4</th>\n",
       "      <td>ENSG00000241860.6_5</td>\n",
       "      <td>26</td>\n",
       "      <td>32</td>\n",
       "      <td>35</td>\n",
       "      <td>35</td>\n",
       "    </tr>\n",
       "  </tbody>\n",
       "</table>\n",
       "</div>"
      ],
      "text/plain": [
       "                Geneid  NT_shRNA_hepg2_rep1  NT_shRNA_hepg2_rep2  \\\n",
       "0  ENSG00000227232.5_2                   27                   42   \n",
       "1  ENSG00000238009.6_6                    0                    4   \n",
       "2    ENSG00000237683.5                   22                   20   \n",
       "3  ENSG00000239906.1_5                    6                    2   \n",
       "4  ENSG00000241860.6_5                   26                   32   \n",
       "\n",
       "   TARDBP_shRNA_hepg2_rep1  TARDBP_shRNA_hepg2_rep2  \n",
       "0                       40                       35  \n",
       "1                        4                        8  \n",
       "2                       16                       27  \n",
       "3                        3                        7  \n",
       "4                       35                       35  "
      ]
     },
     "execution_count": 13,
     "metadata": {},
     "output_type": "execute_result"
    }
   ],
   "source": [
    "print counts.shape\n",
    "counts.head()"
   ]
  },
  {
   "cell_type": "code",
   "execution_count": 15,
   "metadata": {},
   "outputs": [
    {
     "data": {
      "text/html": [
       "<div>\n",
       "<style scoped>\n",
       "    .dataframe tbody tr th:only-of-type {\n",
       "        vertical-align: middle;\n",
       "    }\n",
       "\n",
       "    .dataframe tbody tr th {\n",
       "        vertical-align: top;\n",
       "    }\n",
       "\n",
       "    .dataframe thead th {\n",
       "        text-align: right;\n",
       "    }\n",
       "</style>\n",
       "<table border=\"1\" class=\"dataframe\">\n",
       "  <thead>\n",
       "    <tr style=\"text-align: right;\">\n",
       "      <th></th>\n",
       "      <th>NT_shRNA_hepg2_rep1</th>\n",
       "      <th>NT_shRNA_hepg2_rep2</th>\n",
       "      <th>TARDBP_shRNA_hepg2_rep1</th>\n",
       "      <th>TARDBP_shRNA_hepg2_rep2</th>\n",
       "    </tr>\n",
       "  </thead>\n",
       "  <tbody>\n",
       "    <tr>\n",
       "      <th>0</th>\n",
       "      <td>27</td>\n",
       "      <td>42</td>\n",
       "      <td>40</td>\n",
       "      <td>35</td>\n",
       "    </tr>\n",
       "    <tr>\n",
       "      <th>1</th>\n",
       "      <td>0</td>\n",
       "      <td>4</td>\n",
       "      <td>4</td>\n",
       "      <td>8</td>\n",
       "    </tr>\n",
       "    <tr>\n",
       "      <th>2</th>\n",
       "      <td>22</td>\n",
       "      <td>20</td>\n",
       "      <td>16</td>\n",
       "      <td>27</td>\n",
       "    </tr>\n",
       "    <tr>\n",
       "      <th>3</th>\n",
       "      <td>6</td>\n",
       "      <td>2</td>\n",
       "      <td>3</td>\n",
       "      <td>7</td>\n",
       "    </tr>\n",
       "    <tr>\n",
       "      <th>4</th>\n",
       "      <td>26</td>\n",
       "      <td>32</td>\n",
       "      <td>35</td>\n",
       "      <td>35</td>\n",
       "    </tr>\n",
       "  </tbody>\n",
       "</table>\n",
       "</div>"
      ],
      "text/plain": [
       "   NT_shRNA_hepg2_rep1  NT_shRNA_hepg2_rep2  TARDBP_shRNA_hepg2_rep1  \\\n",
       "0                   27                   42                       40   \n",
       "1                    0                    4                        4   \n",
       "2                   22                   20                       16   \n",
       "3                    6                    2                        3   \n",
       "4                   26                   32                       35   \n",
       "\n",
       "   TARDBP_shRNA_hepg2_rep2  \n",
       "0                       35  \n",
       "1                        8  \n",
       "2                       27  \n",
       "3                        7  \n",
       "4                       35  "
      ]
     },
     "execution_count": 15,
     "metadata": {},
     "output_type": "execute_result"
    }
   ],
   "source": [
    "# We are going to get rid of the Chr, Start, End, Strand columns by feeding\n",
    "# the drop command a LIST of column names to drop. Notice the syntax for writing \n",
    "# a list is ['item1','item2'] Use axis=1 to specify that we are dropping these \n",
    "# COLUMNS. Axis=0 would search to drop those values from the ROWS. Again, look \n",
    "# at how this manipulation changed the shape and content of your dataframe.\n",
    "counts_only = counts.drop(['Geneid'], axis = 1)\n",
    "counts_only.head()"
   ]
  },
  {
   "cell_type": "code",
   "execution_count": 16,
   "metadata": {},
   "outputs": [
    {
     "data": {
      "text/html": [
       "<div>\n",
       "<style scoped>\n",
       "    .dataframe tbody tr th:only-of-type {\n",
       "        vertical-align: middle;\n",
       "    }\n",
       "\n",
       "    .dataframe tbody tr th {\n",
       "        vertical-align: top;\n",
       "    }\n",
       "\n",
       "    .dataframe thead th {\n",
       "        text-align: right;\n",
       "    }\n",
       "</style>\n",
       "<table border=\"1\" class=\"dataframe\">\n",
       "  <thead>\n",
       "    <tr style=\"text-align: right;\">\n",
       "      <th></th>\n",
       "      <th>Geneid</th>\n",
       "      <th>NT_hepg2_Rep1</th>\n",
       "      <th>NT_hepg2_Rep2</th>\n",
       "      <th>TARDBP_hepg2_Rep1</th>\n",
       "      <th>TARDBP_hepg2_Rep2</th>\n",
       "    </tr>\n",
       "  </thead>\n",
       "  <tbody>\n",
       "    <tr>\n",
       "      <th>0</th>\n",
       "      <td>ENSG00000227232.5_2</td>\n",
       "      <td>27</td>\n",
       "      <td>42</td>\n",
       "      <td>40</td>\n",
       "      <td>35</td>\n",
       "    </tr>\n",
       "    <tr>\n",
       "      <th>1</th>\n",
       "      <td>ENSG00000238009.6_6</td>\n",
       "      <td>0</td>\n",
       "      <td>4</td>\n",
       "      <td>4</td>\n",
       "      <td>8</td>\n",
       "    </tr>\n",
       "    <tr>\n",
       "      <th>2</th>\n",
       "      <td>ENSG00000237683.5</td>\n",
       "      <td>22</td>\n",
       "      <td>20</td>\n",
       "      <td>16</td>\n",
       "      <td>27</td>\n",
       "    </tr>\n",
       "    <tr>\n",
       "      <th>3</th>\n",
       "      <td>ENSG00000239906.1_5</td>\n",
       "      <td>6</td>\n",
       "      <td>2</td>\n",
       "      <td>3</td>\n",
       "      <td>7</td>\n",
       "    </tr>\n",
       "    <tr>\n",
       "      <th>4</th>\n",
       "      <td>ENSG00000241860.6_5</td>\n",
       "      <td>26</td>\n",
       "      <td>32</td>\n",
       "      <td>35</td>\n",
       "      <td>35</td>\n",
       "    </tr>\n",
       "  </tbody>\n",
       "</table>\n",
       "</div>"
      ],
      "text/plain": [
       "                Geneid  NT_hepg2_Rep1  NT_hepg2_Rep2  TARDBP_hepg2_Rep1  \\\n",
       "0  ENSG00000227232.5_2             27             42                 40   \n",
       "1  ENSG00000238009.6_6              0              4                  4   \n",
       "2    ENSG00000237683.5             22             20                 16   \n",
       "3  ENSG00000239906.1_5              6              2                  3   \n",
       "4  ENSG00000241860.6_5             26             32                 35   \n",
       "\n",
       "   TARDBP_hepg2_Rep2  \n",
       "0                 35  \n",
       "1                  8  \n",
       "2                 27  \n",
       "3                  7  \n",
       "4                 35  "
      ]
     },
     "execution_count": 16,
     "metadata": {},
     "output_type": "execute_result"
    }
   ],
   "source": [
    "# We are going to rename the columns to something more meaningful using the function\n",
    "# rename. inside of rename, we will call columns={\"oldname\":\"newname\",\"oldname\":\"newname\"}\n",
    "# Keep in mind that you can enter to a new line whenever you are inside of a parenthesis\n",
    "# or bracket without breaking your command. This makes your code easier to read. Rename\n",
    "# all the columns that you want to, and assign that output to a variable called counts.\n",
    "\n",
    "counts = counts.rename(columns={\"NT_shRNA_hepg2_rep1\":\"NT_hepg2_Rep1\",\n",
    "                               \"NT_shRNA_hepg2_rep2\":\"NT_hepg2_Rep2\",\n",
    "                               \"TARDBP_shRNA_hepg2_rep1\":\"TARDBP_hepg2_Rep1\",\n",
    "                               \"TARDBP_shRNA_hepg2_rep2\":\"TARDBP_hepg2_Rep2\"})\n",
    "\n",
    "counts.head()"
   ]
  },
  {
   "cell_type": "markdown",
   "metadata": {},
   "source": [
    "# Reading and Writing Files"
   ]
  },
  {
   "cell_type": "code",
   "execution_count": 18,
   "metadata": {},
   "outputs": [],
   "source": [
    "# to write to a file you have to freat a file object to which you write.\n",
    "# after finishing writing, make sure you close yor file object or else it's reasy for the output to get corrupted\n",
    "f = open('test_writing.txt', 'w')\n",
    "f.write('This\\n')\n",
    "f.write('Is\\n')\n",
    "f.write('A\\n')\n",
    "f.write('Test!\\n')\n",
    "f.close()\n",
    "# reading files\n"
   ]
  },
  {
   "cell_type": "code",
   "execution_count": 20,
   "metadata": {},
   "outputs": [
    {
     "name": "stdout",
     "output_type": "stream",
     "text": [
      "This\n",
      "Is\n",
      "A\n",
      "Test!\n",
      "\n",
      "['This', 'Is', 'A', 'Test!']\n"
     ]
    }
   ],
   "source": [
    "f = open('test_writing.txt', 'r')\n",
    "my_test = f.read()\n",
    "print my_test\n",
    "\n",
    "my_parsed_file = my_test.split()\n",
    "print my_parsed_file"
   ]
  },
  {
   "cell_type": "code",
   "execution_count": 24,
   "metadata": {},
   "outputs": [
    {
     "name": "stdout",
     "output_type": "stream",
     "text": [
      "['This', 'Is', 'A', 'Test!']\n"
     ]
    }
   ],
   "source": [
    "# while read is convenient it is recommended to read line-by-line.\n",
    "f = open('test_writing.txt', 'r')\n",
    "my_other_parsed_file = []\n",
    "for line in f:\n",
    "        my_other_parsed_file.append(line.split()[0])\n",
    "        \n",
    "print my_other_parsed_file"
   ]
  },
  {
   "cell_type": "markdown",
   "metadata": {},
   "source": [
    "# Other things about Python"
   ]
  },
  {
   "cell_type": "markdown",
   "metadata": {},
   "source": [
    "A commonly used feature in Python is 'list comprehension'. This allows you to write (complex) statements in one line. It is also considered a bit faster than usual operations"
   ]
  },
  {
   "cell_type": "code",
   "execution_count": 25,
   "metadata": {},
   "outputs": [
    {
     "name": "stdout",
     "output_type": "stream",
     "text": [
      "[0, 1, 2, 3, 4, 5, 6, 7, 8, 9]\n",
      "[0, 1, 2, 3, 4, 5, 6, 7, 8, 9]\n"
     ]
    }
   ],
   "source": [
    "normal_loop_output = []\n",
    "for i in range(0, 10):\n",
    "        normal_loop_output.append(i)\n",
    "        \n",
    "lc_output = []\n",
    "[lc_output.append(i) for i in range(0,10)]\n",
    "\n",
    "print normal_loop_output\n",
    "print lc_output"
   ]
  }
 ],
 "metadata": {
  "kernelspec": {
   "display_name": "Python 2",
   "language": "python",
   "name": "python2"
  },
  "language_info": {
   "codemirror_mode": {
    "name": "ipython",
    "version": 2
   },
   "file_extension": ".py",
   "mimetype": "text/x-python",
   "name": "python",
   "nbconvert_exporter": "python",
   "pygments_lexer": "ipython2",
   "version": "2.7.15"
  }
 },
 "nbformat": 4,
 "nbformat_minor": 2
}
