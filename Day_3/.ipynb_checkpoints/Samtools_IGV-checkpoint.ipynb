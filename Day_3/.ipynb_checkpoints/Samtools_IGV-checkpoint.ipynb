{
 "cells": [
  {
   "cell_type": "markdown",
   "metadata": {},
   "source": [
    "## Sort and index bam files for downstream analyses and look at the alignment with IGV"
   ]
  },
  {
   "cell_type": "markdown",
   "metadata": {},
   "source": [
    "### Samtools"
   ]
  },
  {
   "cell_type": "markdown",
   "metadata": {},
   "source": [
    "Check out the [samtools](http://www.htslib.org/doc/samtools.html) documentation. Since BAM files are binary, they can only be read by the computer. Samtools is a great tool that lets us view the contents of bamfiles and perform various manipulations on them."
   ]
  },
  {
   "cell_type": "markdown",
   "metadata": {},
   "source": [
    "Check that you have samtools installed. "
   ]
  },
  {
   "cell_type": "markdown",
   "metadata": {},
   "source": [
    "Basic usage:"
   ]
  },
  {
   "cell_type": "markdown",
   "metadata": {},
   "source": [
    "`samtools <command> [options]`"
   ]
  },
  {
   "cell_type": "markdown",
   "metadata": {},
   "source": [
    "Try out some of the samtools commands:"
   ]
  },
  {
   "cell_type": "markdown",
   "metadata": {},
   "source": [
    "`samtools view interesting_file.bam (or interesting_file.sam)`"
   ]
  },
  {
   "cell_type": "markdown",
   "metadata": {},
   "source": [
    "`samtools flagstat interesting_file.bam`"
   ]
  },
  {
   "cell_type": "markdown",
   "metadata": {},
   "source": [
    "If your machine shows error associated with No shared libraries:libbz2.so.1.0,"
   ]
  },
  {
   "cell_type": "markdown",
   "metadata": {},
   "source": [
    "`conda install --override-channels -c conda-forge bzip2`"
   ]
  },
  {
   "cell_type": "markdown",
   "metadata": {},
   "source": [
    "Let's use samtools to **sort and index our bam files**. Look at the documentation to figure out how you would sort a bam file and save it to a new file with the extension .sorted.bam\n"
   ]
  },
  {
   "cell_type": "markdown",
   "metadata": {},
   "source": [
    "`samtools sort -@ 8 -o interesting_file.sorted.bam interesting_file.bam`"
   ]
  },
  {
   "cell_type": "markdown",
   "metadata": {},
   "source": [
    "We also need a bai index of the sorted bam file. Again, look at the documentation to determine what that command would look like:"
   ]
  },
  {
   "cell_type": "markdown",
   "metadata": {},
   "source": [
    "`samtools index interesting_file.sorted.bam`"
   ]
  },
  {
   "cell_type": "markdown",
   "metadata": {},
   "source": [
    "Now that you have figured out what the commands should be, write a submitter script with both of those commands that you can submit for the file you made. The sorting takes 8 processors, so we need to submit a job. Keep in mind that you can include two commands in the same script. Just put one below the other and your second one will run after the first one is finished.\n"
   ]
  },
  {
   "cell_type": "markdown",
   "metadata": {},
   "source": [
    "Write a script to sort and index your bam files"
   ]
  },
  {
   "cell_type": "markdown",
   "metadata": {},
   "source": [
    "`#!/bin/bash`<br>\n",
    "`#PBS -q hotel`<br>\n",
    "`#PBS -N sam_index_sort`<br>\n",
    "`#PBS -l nodes=1:ppn=8`<br>\n",
    "`#PBS -l walltime=2:00:00`<br>\n",
    "`#PBS -o sam_index_sort.out`<br>\n",
    "`#PBS -e sam_index_sort.err`<br>\n",
    "\n",
    "`for x in DMSO_1_ATCACGAligned.out DMSO_2_CGATGTAligned.out DTP_1_CAGATCAligned.out DTP_2_CCGTCCAligned.out DTP_3_GTGAAAAligned.out`<br>\n",
    "<br>\n",
    "`do`\n",
    "<br>\n",
    "<br>\n",
    "`cd ~/scratch/star_alignment`<br>\n",
    "<br>\n",
    "`samtools view -S -b $x.sam > $x.bam`\n",
    "<br>\n",
    "<br>\n",
    "`samtools sort -@ 8 -o $x.sorted.bam $x.bam`\n",
    "<br>\n",
    "<br>\n",
    "`samtools index $x.sorted.bam`\n",
    "<br>\n",
    "<br>\n",
    "`done`\n",
    "\n",
    "\n"
   ]
  },
  {
   "cell_type": "markdown",
   "metadata": {},
   "source": [
    "### IGV"
   ]
  },
  {
   "cell_type": "markdown",
   "metadata": {},
   "source": [
    "Check out the [IGV](http://software.broadinstitute.org/software/igv/) website. Go to Downloads page and follow the instructions based on your operating system.\n"
   ]
  },
  {
   "cell_type": "markdown",
   "metadata": {},
   "source": [
    "In order to view alignments, you need to upload the bam files to an external server (not TSCC) for viewing. You can also download the bam and the indexed bai files to your desktop and load them from there. But since the files are big, Emily from Yeo lab has uploaded them to an external server for you to view. I have uploaded four files in total, two for each condition (control and knockdown)."
   ]
  },
  {
   "cell_type": "markdown",
   "metadata": {},
   "source": [
    "**After you complete the download, open IGV (as described above).**"
   ]
  },
  {
   "cell_type": "markdown",
   "metadata": {},
   "source": [
    "Select your genome with genome - load from server. Choose hg19."
   ]
  },
  {
   "cell_type": "markdown",
   "metadata": {},
   "source": [
    "Upload the bam files with - Select File - Load from URL<br>\n",
    "The URL links are:<br>\n",
    "<br>\n",
    "DMSO-1:<br>\n",
    "https://mstp-bootcamp.s3.us-east-2.amazonaws.com/DMSO_1_ATCACGAligned.out.sorted.bam<br>\n",
    "https://mstp-bootcamp.s3.us-east-2.amazonaws.com/DMSO_1_ATCACGAligned.out.sorted.bam.bai<br>\n",
    "<br>\n",
    "DMSO-2:<br>\n",
    "https://mstp-bootcamp.s3.us-east-2.amazonaws.com/DMSO_2_CGATGTAligned.out.sorted.bam<br>\n",
    "https://mstp-bootcamp.s3.us-east-2.amazonaws.com/DMSO_2_CGATGTAligned.out.sorted.bam.bai<br>\n",
    "<br>\n",
    "DTP-1:<br>\n",
    "https://mstp-bootcamp.s3.us-east-2.amazonaws.com/DTP_1_CAGATCAligned.out.sorted.bam<br>\n",
    "https://mstp-bootcamp.s3.us-east-2.amazonaws.com/DTP_1_CAGATCAligned.out.sorted.bam.bai<br>\n",
    "<br>\n",
    "DTP-2:<br>\n",
    "https://mstp-bootcamp.s3.us-east-2.amazonaws.com/DTP_2_CCGTCCAligned.out.sorted.bam<br>\n",
    "https://mstp-bootcamp.s3.us-east-2.amazonaws.com/DTP_2_CCGTCCAligned.out.sorted.bam.bai<br>\n",
    "<br>\n",
    "DTP-3:<br>\n",
    "https://mstp-bootcamp.s3.us-east-2.amazonaws.com/DTP_3_GTGAAAAligned.out.sorted.bam<br>\n",
    "https://mstp-bootcamp.s3.us-east-2.amazonaws.com/DTP_3_GTGAAAAligned.out.sorted.bam.bai<br>"
   ]
  },
  {
   "cell_type": "markdown",
   "metadata": {},
   "source": [
    "Once you have uploaded all files, play around by viewing different genes or chromosome locations. Can you see genes that clearly have fewer reads in the knockdown vs control datasets?"
   ]
  },
  {
   "cell_type": "markdown",
   "metadata": {},
   "source": [
    "We will come back to these later on for the initial pass that our most highly differentially expressed genes show expression differences."
   ]
  },
  {
   "cell_type": "markdown",
   "metadata": {},
   "source": [
    "When you are ready to quit IGV, you can save the session with File - Save session. Next time you open IGV you can open your saved session without having to reload the BAM files."
   ]
  },
  {
   "cell_type": "code",
   "execution_count": null,
   "metadata": {},
   "outputs": [],
   "source": []
  }
 ],
 "metadata": {
  "kernelspec": {
   "display_name": "Python 3",
   "language": "python",
   "name": "python3"
  },
  "language_info": {
   "codemirror_mode": {
    "name": "ipython",
    "version": 3
   },
   "file_extension": ".py",
   "mimetype": "text/x-python",
   "name": "python",
   "nbconvert_exporter": "python",
   "pygments_lexer": "ipython3",
   "version": "3.7.3"
  }
 },
 "nbformat": 4,
 "nbformat_minor": 2
}
