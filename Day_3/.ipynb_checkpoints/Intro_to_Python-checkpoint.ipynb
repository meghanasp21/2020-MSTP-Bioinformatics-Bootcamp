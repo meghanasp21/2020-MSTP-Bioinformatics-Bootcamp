{
 "cells": [
  {
   "cell_type": "markdown",
   "metadata": {},
   "source": [
    "# Introduction to Python"
   ]
  },
  {
   "cell_type": "markdown",
   "metadata": {},
   "source": [
    "Python is, just like R, an interpreted programming language. The emphasis behind Python is code readability and syntax which allows to write concepts in less lines of code.\n",
    "\n",
    "Currently there are two main versions of Python. The older, but still more commonly used is 2.7.X and the newer 3.X. When transitioning from 2.7 to 3.X a number of changes were made to the language such that it wasn't possible to just transfer all scripts. The same goes for most packages in Python which is why even though 2.7.X is no longer actively developped it is also not yet discontinued (the current end-of-life date is set to 2020).\n",
    "\n",
    "In this class we will be working with Python 2.7.13 which is still the default version when using the Anaconda installer."
   ]
  },
  {
   "cell_type": "markdown",
   "metadata": {},
   "source": [
    "# Python Data Types"
   ]
  },
  {
   "cell_type": "markdown",
   "metadata": {},
   "source": [
    "Numbers"
   ]
  },
  {
   "cell_type": "code",
   "execution_count": 1,
   "metadata": {},
   "outputs": [
    {
     "name": "stdout",
     "output_type": "stream",
     "text": [
      "5\n",
      "14\n",
      "15.2\n"
     ]
    }
   ],
   "source": [
    "5\n",
    "\n",
    "print 5\n",
    "\n",
    "a = 12\n",
    "\n",
    "print a + 2\n",
    "\n",
    "print a + 3.2"
   ]
  },
  {
   "cell_type": "markdown",
   "metadata": {},
   "source": [
    "Strings: String operations in Python are very fast (much faster than in R)"
   ]
  },
  {
   "cell_type": "code",
   "execution_count": 2,
   "metadata": {},
   "outputs": [
    {
     "name": "stdout",
     "output_type": "stream",
     "text": [
      "abc\n"
     ]
    }
   ],
   "source": [
    "my_string = 'a' + 'bc'\n",
    "print my_string"
   ]
  },
  {
   "cell_type": "markdown",
   "metadata": {},
   "source": [
    "Lists: can store multiple types and are mutable."
   ]
  },
  {
   "cell_type": "code",
   "execution_count": 3,
   "metadata": {},
   "outputs": [
    {
     "name": "stdout",
     "output_type": "stream",
     "text": [
      "3\n",
      "[123, 'someString', 4.5, 5, 6, 7]\n",
      "[123, 'someString', 4.5, '12']\n",
      "123\n",
      "[123, 'someString', 4.5]\n"
     ]
    }
   ],
   "source": [
    "my_list = [123, 'someString', 4.5]\n",
    "print len(my_list)\n",
    "\n",
    "print my_list + [5, 6, 7]\n",
    "my_list.append('12')\n",
    "print(my_list)\n",
    "print my_list[0]\n",
    "print my_list[0:3]"
   ]
  },
  {
   "cell_type": "markdown",
   "metadata": {},
   "source": [
    "Dictionaries: Have very fast lookup time!"
   ]
  },
  {
   "cell_type": "code",
   "execution_count": 4,
   "metadata": {},
   "outputs": [
    {
     "data": {
      "text/plain": [
       "'yes'"
      ]
     },
     "execution_count": 4,
     "metadata": {},
     "output_type": "execute_result"
    }
   ],
   "source": [
    "my_dictionary = {'apples' : 3, 'surfing' : 'yes'}\n",
    "my_dictionary['surfing']"
   ]
  },
  {
   "cell_type": "code",
   "execution_count": 5,
   "metadata": {},
   "outputs": [
    {
     "name": "stdout",
     "output_type": "stream",
     "text": [
      "{'running': 'nope', 'surfing': 'yes', 'apples': 3}\n"
     ]
    }
   ],
   "source": [
    "my_dictionary['running'] = 'nope'\n",
    "print my_dictionary"
   ]
  },
  {
   "cell_type": "markdown",
   "metadata": {},
   "source": [
    "Tuples: are similar to lists but immutable."
   ]
  },
  {
   "cell_type": "code",
   "execution_count": 6,
   "metadata": {},
   "outputs": [
    {
     "name": "stdout",
     "output_type": "stream",
     "text": [
      "(4, 3, 2, 1)\n",
      "1\n",
      "2\n"
     ]
    }
   ],
   "source": [
    "my_tuple = (4 ,3 ,2 ,1)\n",
    "print my_tuple\n",
    "print my_tuple.index(3)\n",
    "\n",
    "my_other_tuple = (7,8,9)\n",
    "print my_other_tuple.index(9)"
   ]
  },
  {
   "cell_type": "markdown",
   "metadata": {},
   "source": [
    "# Python Packages"
   ]
  },
  {
   "cell_type": "markdown",
   "metadata": {},
   "source": [
    "Similar to R, Python has good default capabilities which can become very powerful once you start adding packages. Some of the most commonly used packages are:"
   ]
  },
  {
   "cell_type": "code",
   "execution_count": 7,
   "metadata": {},
   "outputs": [],
   "source": [
    "import pandas as pd  # used generally for mixed data types\n",
    "import numpy as np  # used generally for pure numeric matrices"
   ]
  },
  {
   "cell_type": "code",
   "execution_count": 18,
   "metadata": {},
   "outputs": [],
   "source": [
    "data_dir = '/oasis/tscc/scratch/mstp2020/'\n",
    "\n",
    "# Use the pandas read_table function to read in your data. Make sure the\n",
    "# file name matches what your data is called on tscc and it is located in \n",
    "# the folder that you have defined as data_dir. \n",
    "\n",
    "# Use a commend to specify the character that comment lines start with... \n",
    "# we don't want to read those in. Set the gene_id as the index for this \n",
    "# dataframe with index_col=0\n",
    "# counts = pd.read_table(data_dir+\"all_counts.txt\", comment=\"#\", index_col=0)\n",
    "\n",
    "#  I prefer reading in data tables without having indeces\n",
    "counts = pd.read_csv(data_dir + \"counts_for_deseq2.csv\", comment=\"#\")"
   ]
  },
  {
   "cell_type": "code",
   "execution_count": 19,
   "metadata": {},
   "outputs": [
    {
     "name": "stdout",
     "output_type": "stream",
     "text": [
      "(57820, 6)\n"
     ]
    },
    {
     "data": {
      "text/html": [
       "<div>\n",
       "<style scoped>\n",
       "    .dataframe tbody tr th:only-of-type {\n",
       "        vertical-align: middle;\n",
       "    }\n",
       "\n",
       "    .dataframe tbody tr th {\n",
       "        vertical-align: top;\n",
       "    }\n",
       "\n",
       "    .dataframe thead th {\n",
       "        text-align: right;\n",
       "    }\n",
       "</style>\n",
       "<table border=\"1\" class=\"dataframe\">\n",
       "  <thead>\n",
       "    <tr style=\"text-align: right;\">\n",
       "      <th></th>\n",
       "      <th>Geneid</th>\n",
       "      <th>DMSO_1_ATCACGAligned</th>\n",
       "      <th>DMSO_2_CGATGTAligned</th>\n",
       "      <th>DTP_1_CAGATCAligned</th>\n",
       "      <th>DTP_2_CCGTCCAligned</th>\n",
       "      <th>DTP_3_GTGAAAAligned</th>\n",
       "    </tr>\n",
       "  </thead>\n",
       "  <tbody>\n",
       "    <tr>\n",
       "      <th>0</th>\n",
       "      <td>ENSG00000223972.4</td>\n",
       "      <td>0</td>\n",
       "      <td>0</td>\n",
       "      <td>0</td>\n",
       "      <td>0</td>\n",
       "      <td>0</td>\n",
       "    </tr>\n",
       "    <tr>\n",
       "      <th>1</th>\n",
       "      <td>ENSG00000227232.4</td>\n",
       "      <td>16</td>\n",
       "      <td>19</td>\n",
       "      <td>43</td>\n",
       "      <td>38</td>\n",
       "      <td>61</td>\n",
       "    </tr>\n",
       "    <tr>\n",
       "      <th>2</th>\n",
       "      <td>ENSG00000243485.2</td>\n",
       "      <td>0</td>\n",
       "      <td>0</td>\n",
       "      <td>0</td>\n",
       "      <td>0</td>\n",
       "      <td>0</td>\n",
       "    </tr>\n",
       "    <tr>\n",
       "      <th>3</th>\n",
       "      <td>ENSG00000237613.2</td>\n",
       "      <td>0</td>\n",
       "      <td>0</td>\n",
       "      <td>0</td>\n",
       "      <td>0</td>\n",
       "      <td>0</td>\n",
       "    </tr>\n",
       "    <tr>\n",
       "      <th>4</th>\n",
       "      <td>ENSG00000268020.2</td>\n",
       "      <td>0</td>\n",
       "      <td>0</td>\n",
       "      <td>0</td>\n",
       "      <td>0</td>\n",
       "      <td>0</td>\n",
       "    </tr>\n",
       "  </tbody>\n",
       "</table>\n",
       "</div>"
      ],
      "text/plain": [
       "              Geneid  DMSO_1_ATCACGAligned  DMSO_2_CGATGTAligned  \\\n",
       "0  ENSG00000223972.4                     0                     0   \n",
       "1  ENSG00000227232.4                    16                    19   \n",
       "2  ENSG00000243485.2                     0                     0   \n",
       "3  ENSG00000237613.2                     0                     0   \n",
       "4  ENSG00000268020.2                     0                     0   \n",
       "\n",
       "   DTP_1_CAGATCAligned  DTP_2_CCGTCCAligned  DTP_3_GTGAAAAligned  \n",
       "0                    0                    0                    0  \n",
       "1                   43                   38                   61  \n",
       "2                    0                    0                    0  \n",
       "3                    0                    0                    0  \n",
       "4                    0                    0                    0  "
      ]
     },
     "execution_count": 19,
     "metadata": {},
     "output_type": "execute_result"
    }
   ],
   "source": [
    "print counts.shape\n",
    "counts.head()"
   ]
  },
  {
   "cell_type": "code",
   "execution_count": 20,
   "metadata": {},
   "outputs": [
    {
     "data": {
      "text/html": [
       "<div>\n",
       "<style scoped>\n",
       "    .dataframe tbody tr th:only-of-type {\n",
       "        vertical-align: middle;\n",
       "    }\n",
       "\n",
       "    .dataframe tbody tr th {\n",
       "        vertical-align: top;\n",
       "    }\n",
       "\n",
       "    .dataframe thead th {\n",
       "        text-align: right;\n",
       "    }\n",
       "</style>\n",
       "<table border=\"1\" class=\"dataframe\">\n",
       "  <thead>\n",
       "    <tr style=\"text-align: right;\">\n",
       "      <th></th>\n",
       "      <th>DMSO_1_ATCACGAligned</th>\n",
       "      <th>DMSO_2_CGATGTAligned</th>\n",
       "      <th>DTP_1_CAGATCAligned</th>\n",
       "      <th>DTP_2_CCGTCCAligned</th>\n",
       "      <th>DTP_3_GTGAAAAligned</th>\n",
       "    </tr>\n",
       "  </thead>\n",
       "  <tbody>\n",
       "    <tr>\n",
       "      <th>0</th>\n",
       "      <td>0</td>\n",
       "      <td>0</td>\n",
       "      <td>0</td>\n",
       "      <td>0</td>\n",
       "      <td>0</td>\n",
       "    </tr>\n",
       "    <tr>\n",
       "      <th>1</th>\n",
       "      <td>16</td>\n",
       "      <td>19</td>\n",
       "      <td>43</td>\n",
       "      <td>38</td>\n",
       "      <td>61</td>\n",
       "    </tr>\n",
       "    <tr>\n",
       "      <th>2</th>\n",
       "      <td>0</td>\n",
       "      <td>0</td>\n",
       "      <td>0</td>\n",
       "      <td>0</td>\n",
       "      <td>0</td>\n",
       "    </tr>\n",
       "    <tr>\n",
       "      <th>3</th>\n",
       "      <td>0</td>\n",
       "      <td>0</td>\n",
       "      <td>0</td>\n",
       "      <td>0</td>\n",
       "      <td>0</td>\n",
       "    </tr>\n",
       "    <tr>\n",
       "      <th>4</th>\n",
       "      <td>0</td>\n",
       "      <td>0</td>\n",
       "      <td>0</td>\n",
       "      <td>0</td>\n",
       "      <td>0</td>\n",
       "    </tr>\n",
       "  </tbody>\n",
       "</table>\n",
       "</div>"
      ],
      "text/plain": [
       "   DMSO_1_ATCACGAligned  DMSO_2_CGATGTAligned  DTP_1_CAGATCAligned  \\\n",
       "0                     0                     0                    0   \n",
       "1                    16                    19                   43   \n",
       "2                     0                     0                    0   \n",
       "3                     0                     0                    0   \n",
       "4                     0                     0                    0   \n",
       "\n",
       "   DTP_2_CCGTCCAligned  DTP_3_GTGAAAAligned  \n",
       "0                    0                    0  \n",
       "1                   38                   61  \n",
       "2                    0                    0  \n",
       "3                    0                    0  \n",
       "4                    0                    0  "
      ]
     },
     "execution_count": 20,
     "metadata": {},
     "output_type": "execute_result"
    }
   ],
   "source": [
    "# We are going to get rid of the Chr, Start, End, Strand columns by feeding\n",
    "# the drop command a LIST of column names to drop. Notice the syntax for writing \n",
    "# a list is ['item1','item2'] Use axis=1 to specify that we are dropping these \n",
    "# COLUMNS. Axis=0 would search to drop those values from the ROWS. Again, look \n",
    "# at how this manipulation changed the shape and content of your dataframe.\n",
    "counts_only = counts.drop(['Geneid'], axis = 1)\n",
    "counts_only.head()"
   ]
  },
  {
   "cell_type": "code",
   "execution_count": 21,
   "metadata": {},
   "outputs": [
    {
     "data": {
      "text/html": [
       "<div>\n",
       "<style scoped>\n",
       "    .dataframe tbody tr th:only-of-type {\n",
       "        vertical-align: middle;\n",
       "    }\n",
       "\n",
       "    .dataframe tbody tr th {\n",
       "        vertical-align: top;\n",
       "    }\n",
       "\n",
       "    .dataframe thead th {\n",
       "        text-align: right;\n",
       "    }\n",
       "</style>\n",
       "<table border=\"1\" class=\"dataframe\">\n",
       "  <thead>\n",
       "    <tr style=\"text-align: right;\">\n",
       "      <th></th>\n",
       "      <th>Geneid</th>\n",
       "      <th>Parental1</th>\n",
       "      <th>Parental2</th>\n",
       "      <th>Persister1</th>\n",
       "      <th>Persister2</th>\n",
       "      <th>Persister3</th>\n",
       "    </tr>\n",
       "  </thead>\n",
       "  <tbody>\n",
       "    <tr>\n",
       "      <th>0</th>\n",
       "      <td>ENSG00000223972.4</td>\n",
       "      <td>0</td>\n",
       "      <td>0</td>\n",
       "      <td>0</td>\n",
       "      <td>0</td>\n",
       "      <td>0</td>\n",
       "    </tr>\n",
       "    <tr>\n",
       "      <th>1</th>\n",
       "      <td>ENSG00000227232.4</td>\n",
       "      <td>16</td>\n",
       "      <td>19</td>\n",
       "      <td>43</td>\n",
       "      <td>38</td>\n",
       "      <td>61</td>\n",
       "    </tr>\n",
       "    <tr>\n",
       "      <th>2</th>\n",
       "      <td>ENSG00000243485.2</td>\n",
       "      <td>0</td>\n",
       "      <td>0</td>\n",
       "      <td>0</td>\n",
       "      <td>0</td>\n",
       "      <td>0</td>\n",
       "    </tr>\n",
       "    <tr>\n",
       "      <th>3</th>\n",
       "      <td>ENSG00000237613.2</td>\n",
       "      <td>0</td>\n",
       "      <td>0</td>\n",
       "      <td>0</td>\n",
       "      <td>0</td>\n",
       "      <td>0</td>\n",
       "    </tr>\n",
       "    <tr>\n",
       "      <th>4</th>\n",
       "      <td>ENSG00000268020.2</td>\n",
       "      <td>0</td>\n",
       "      <td>0</td>\n",
       "      <td>0</td>\n",
       "      <td>0</td>\n",
       "      <td>0</td>\n",
       "    </tr>\n",
       "  </tbody>\n",
       "</table>\n",
       "</div>"
      ],
      "text/plain": [
       "              Geneid  Parental1  Parental2  Persister1  Persister2  Persister3\n",
       "0  ENSG00000223972.4          0          0           0           0           0\n",
       "1  ENSG00000227232.4         16         19          43          38          61\n",
       "2  ENSG00000243485.2          0          0           0           0           0\n",
       "3  ENSG00000237613.2          0          0           0           0           0\n",
       "4  ENSG00000268020.2          0          0           0           0           0"
      ]
     },
     "execution_count": 21,
     "metadata": {},
     "output_type": "execute_result"
    }
   ],
   "source": [
    "# We are going to rename the columns to something more meaningful using the function\n",
    "# rename. inside of rename, we will call columns={\"oldname\":\"newname\",\"oldname\":\"newname\"}\n",
    "# Keep in mind that you can enter to a new line whenever you are inside of a parenthesis\n",
    "# or bracket without breaking your command. This makes your code easier to read. Rename\n",
    "# all the columns that you want to, and assign that output to a variable called counts.\n",
    "\n",
    "counts = counts.rename(columns={\"DMSO_1_ATCACGAligned\":\"Parental1\",\n",
    "                               \"DMSO_2_CGATGTAligned\":\"Parental2\",\n",
    "                               \"DTP_1_CAGATCAligned\":\"Persister1\",\n",
    "                               \"DTP_2_CCGTCCAligned\":\"Persister2\",\n",
    "                               \"DTP_3_GTGAAAAligned\":\"Persister3\"})\n",
    "\n",
    "counts.head()"
   ]
  },
  {
   "cell_type": "markdown",
   "metadata": {},
   "source": [
    "# Reading and Writing Files"
   ]
  },
  {
   "cell_type": "code",
   "execution_count": 22,
   "metadata": {},
   "outputs": [],
   "source": [
    "# to write to a file you have to freat a file object to which you write.\n",
    "# after finishing writing, make sure you close yor file object or else it's reasy for the output to get corrupted\n",
    "f = open('test_writing.txt', 'w')\n",
    "f.write('This\\n')\n",
    "f.write('Is\\n')\n",
    "f.write('A\\n')\n",
    "f.write('Test!\\n')\n",
    "f.close()\n",
    "# reading files\n"
   ]
  },
  {
   "cell_type": "code",
   "execution_count": 23,
   "metadata": {},
   "outputs": [
    {
     "name": "stdout",
     "output_type": "stream",
     "text": [
      "This\n",
      "Is\n",
      "A\n",
      "Test!\n",
      "\n",
      "['This', 'Is', 'A', 'Test!']\n"
     ]
    }
   ],
   "source": [
    "f = open('test_writing.txt', 'r')\n",
    "my_test = f.read()\n",
    "print my_test\n",
    "\n",
    "my_parsed_file = my_test.split()\n",
    "print my_parsed_file"
   ]
  },
  {
   "cell_type": "code",
   "execution_count": 24,
   "metadata": {},
   "outputs": [
    {
     "name": "stdout",
     "output_type": "stream",
     "text": [
      "['This', 'Is', 'A', 'Test!']\n"
     ]
    }
   ],
   "source": [
    "# while read is convenient it is recommended to read line-by-line.\n",
    "f = open('test_writing.txt', 'r')\n",
    "my_other_parsed_file = []\n",
    "for line in f:\n",
    "        my_other_parsed_file.append(line.split()[0])\n",
    "        \n",
    "print my_other_parsed_file"
   ]
  },
  {
   "cell_type": "markdown",
   "metadata": {},
   "source": [
    "# Other things about Python"
   ]
  },
  {
   "cell_type": "markdown",
   "metadata": {},
   "source": [
    "A commonly used feature in Python is 'list comprehension'. This allows you to write (complex) statements in one line. It is also considered a bit faster than usual operations"
   ]
  },
  {
   "cell_type": "code",
   "execution_count": 25,
   "metadata": {},
   "outputs": [
    {
     "name": "stdout",
     "output_type": "stream",
     "text": [
      "[0, 1, 2, 3, 4, 5, 6, 7, 8, 9]\n",
      "[0, 1, 2, 3, 4, 5, 6, 7, 8, 9]\n"
     ]
    }
   ],
   "source": [
    "normal_loop_output = []\n",
    "for i in range(0, 10):\n",
    "        normal_loop_output.append(i)\n",
    "        \n",
    "lc_output = []\n",
    "[lc_output.append(i) for i in range(0,10)]\n",
    "\n",
    "print normal_loop_output\n",
    "print lc_output"
   ]
  }
 ],
 "metadata": {
  "kernelspec": {
   "display_name": "Python 3",
   "language": "python",
   "name": "python3"
  },
  "language_info": {
   "codemirror_mode": {
    "name": "ipython",
    "version": 3
   },
   "file_extension": ".py",
   "mimetype": "text/x-python",
   "name": "python",
   "nbconvert_exporter": "python",
   "pygments_lexer": "ipython3",
   "version": "3.7.3"
  }
 },
 "nbformat": 4,
 "nbformat_minor": 2
}
