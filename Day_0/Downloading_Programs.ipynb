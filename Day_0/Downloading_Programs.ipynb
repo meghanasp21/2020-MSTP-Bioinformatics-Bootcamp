{
 "cells": [
  {
   "cell_type": "markdown",
   "metadata": {},
   "source": [
    "## Downloading Programs"
   ]
  },
  {
   "cell_type": "markdown",
   "metadata": {},
   "source": [
    "### In this notebook, we will describe how to log onto TSCC and download useful programs"
   ]
  },
  {
   "cell_type": "markdown",
   "metadata": {},
   "source": [
    "#### 1) Log on to TSCC"
   ]
  },
  {
   "cell_type": "markdown",
   "metadata": {},
   "source": [
    "_Mac_"
   ]
  },
  {
   "cell_type": "markdown",
   "metadata": {},
   "source": [
    "In your terminal window, type:"
   ]
  },
  {
   "cell_type": "markdown",
   "metadata": {},
   "source": [
    "`ssh ucsd-train##@tscc-login.sdsc.edu`"
   ]
  },
  {
   "cell_type": "markdown",
   "metadata": {},
   "source": [
    "Make sure you replace the \"#\" with the specific number you have been assigned. You will receive a number assignment from me after you send me the email with a copy of your public key."
   ]
  },
  {
   "cell_type": "markdown",
   "metadata": {},
   "source": [
    "_Windows_"
   ]
  },
  {
   "cell_type": "markdown",
   "metadata": {},
   "source": [
    "Open PuTTY and load your saved \"tscc\" settings along with the appropriate private key."
   ]
  },
  {
   "cell_type": "markdown",
   "metadata": {},
   "source": [
    "#### 2) Download and install anaconda"
   ]
  },
  {
   "cell_type": "markdown",
   "metadata": {},
   "source": [
    "Download the Anaconda Python/R package manager using wget (web-get). The link below is from the Anaconda downloads [page](https://www.anaconda.com/products/individual). TSCC runs on linux, so we will download the python 2.7 linux version (make sure to switch to the linux tab on the downloads page). Right click on the download button and choose \"Copy Link Address\". Move to your home directory on TSCC and paste the link address after a wget command. (wget = web get). Be sure to use this specific version of Anaconda to prevent any bugs for this module"
   ]
  },
  {
   "cell_type": "markdown",
   "metadata": {},
   "source": [
    "`cd ~ `<br>\n",
    "`wget https://repo.anaconda.com/archive/Anaconda2-2019.10-Linux-x86_64.sh`"
   ]
  },
  {
   "cell_type": "markdown",
   "metadata": {},
   "source": [
    "Use ls to see that your file is now in the directory:"
   ]
  },
  {
   "cell_type": "markdown",
   "metadata": {},
   "source": [
    "`ls`"
   ]
  },
  {
   "cell_type": "markdown",
   "metadata": {},
   "source": [
    "To install anaconda, run the downloaded shell script with bash (this will take some time). It will ask you a bunch of questions. Make sure that you use the defaults for all of them (press enter for all)."
   ]
  },
  {
   "cell_type": "markdown",
   "metadata": {},
   "source": [
    "`bash Anaconda2-2019.10-Linux-x86_64.sh`"
   ]
  },
  {
   "cell_type": "markdown",
   "metadata": {},
   "source": [
    "Start pressing ENTER through all the license agreements. Type 'yes' when it asks if you agree to everything."
   ]
  },
  {
   "cell_type": "markdown",
   "metadata": {},
   "source": [
    "One of the important questions it will ask during installation is if you want to add this to the PATH variable in your ~/.bashrc. You will get a prompt that looks like this:\n",
    "\n"
   ]
  },
  {
   "cell_type": "markdown",
   "metadata": {},
   "source": [
    "`Anaconda2 will now be installed into this location:\n",
    "/home/ucsd-train48/anaconda2 `\n",
    "<br>\n",
    "`- Press ENTER to confirm the location`\n",
    "<br>\n",
    "`- Press CTRL-C to abort the installation`\n",
    "<br>\n",
    "`- Or specify a different location below`\n",
    "<br>\n",
    "`[/home/ucsd-train40/anaconda2] >>>`"
   ]
  },
  {
   "cell_type": "markdown",
   "metadata": {},
   "source": [
    "Press ENTER to confirm the location"
   ]
  },
  {
   "cell_type": "markdown",
   "metadata": {},
   "source": [
    "At the end of the installation you might get this warning message:"
   ]
  },
  {
   "cell_type": "markdown",
   "metadata": {},
   "source": [
    "`WARNING:`<br>\n",
    "`You currently have a PYTHONPATH environment variable set. This may cause\n",
    "unexpected behavior when running the Python interpreter in Anaconda2.\n",
    "For best results, please verify that your PYTHONPATH only points to\n",
    "directories of packages that are compatible with the Python interpreter\n",
    "in Anaconda2: /home/ucsd-train48/anaconda2\n",
    "Do you wish the installer to initialize Anaconda2\n",
    "by running conda init? [yes|no]`"
   ]
  },
  {
   "cell_type": "markdown",
   "metadata": {},
   "source": [
    "Type yes"
   ]
  },
  {
   "cell_type": "markdown",
   "metadata": {},
   "source": [
    "#### Check initialization"
   ]
  },
  {
   "cell_type": "markdown",
   "metadata": {},
   "source": [
    "Check that that Anaconda2 is initialized by looking at your bashrc file:"
   ]
  },
  {
   "cell_type": "markdown",
   "metadata": {},
   "source": [
    "`less ~/.bashrc`"
   ]
  },
  {
   "cell_type": "markdown",
   "metadata": {},
   "source": [
    "There should be a conda initialize section below the line  \"#User specific aliases and functions\" which includes the path to your newly installed anaconda package:"
   ]
  },
  {
   "cell_type": "markdown",
   "metadata": {},
   "source": [
    "`# >>> conda initialize >>>`<br>\n",
    "`#!! Contents within this block are managed by 'conda init' !!`<br>\n",
    "`.`<br>\n",
    "`.`<br>\n",
    "`.`<br>\n",
    "\n",
    "`else`<br>\n",
    "    `export PATH=\"/home/ucsd-train48/anaconda2/bin:$PATH\"`\n",
    "\n",
    "`<<< conda initialize <<<`"
   ]
  },
  {
   "cell_type": "markdown",
   "metadata": {},
   "source": [
    "Having this path is important, because it tells the shell which directories to search for executable files in response to commands."
   ]
  },
  {
   "cell_type": "markdown",
   "metadata": {},
   "source": [
    "If you do not see the path variable, you can add it to your .bashrc file: Edit your ~/.bashrc with vi and paste the line below where it says #User specific aliases and functions."
   ]
  },
  {
   "cell_type": "markdown",
   "metadata": {},
   "source": [
    "`vi ~/.bashrc`"
   ]
  },
  {
   "cell_type": "markdown",
   "metadata": {},
   "source": [
    "`i`"
   ]
  },
  {
   "cell_type": "markdown",
   "metadata": {},
   "source": [
    "###### Use the arrow keys to move around the file and paste the following line BELOW \"#User specific aliases and functions\":"
   ]
  },
  {
   "cell_type": "markdown",
   "metadata": {},
   "source": [
    "`export PATH=/home/ucsd-train##/anaconda2/bin:$PATH`"
   ]
  },
  {
   "cell_type": "markdown",
   "metadata": {},
   "source": [
    "Remember to change the ## into your number."
   ]
  },
  {
   "cell_type": "markdown",
   "metadata": {},
   "source": [
    "`esc`"
   ]
  },
  {
   "cell_type": "markdown",
   "metadata": {},
   "source": [
    "`:wq`"
   ]
  },
  {
   "cell_type": "markdown",
   "metadata": {},
   "source": [
    "`source ~/.bashrc`"
   ]
  },
  {
   "cell_type": "markdown",
   "metadata": {},
   "source": [
    "To activate changes, you need to source your bashrc. The file is automatically sourced when you login to TSCC."
   ]
  },
  {
   "cell_type": "markdown",
   "metadata": {},
   "source": [
    "Check that your environment is how you want it by searching for python:"
   ]
  },
  {
   "cell_type": "markdown",
   "metadata": {},
   "source": [
    "`which python`"
   ]
  },
  {
   "cell_type": "markdown",
   "metadata": {},
   "source": [
    "The output should look like this:"
   ]
  },
  {
   "cell_type": "markdown",
   "metadata": {},
   "source": [
    "`~/anaconda2/bin/python`"
   ]
  },
  {
   "cell_type": "markdown",
   "metadata": {},
   "source": [
    "Check the python version you are running."
   ]
  },
  {
   "cell_type": "markdown",
   "metadata": {},
   "source": [
    "`python --version`"
   ]
  },
  {
   "cell_type": "markdown",
   "metadata": {},
   "source": [
    "If you installed the version above your output should look like:"
   ]
  },
  {
   "cell_type": "markdown",
   "metadata": {},
   "source": [
    "`Python 2.7.16 :: Anaconda, Inc.`"
   ]
  },
  {
   "cell_type": "markdown",
   "metadata": {},
   "source": [
    "#### 3) Download other useful programs with Anaconda"
   ]
  },
  {
   "cell_type": "markdown",
   "metadata": {},
   "source": [
    "##### Conda, bioconda, and pip to install programs"
   ]
  },
  {
   "cell_type": "markdown",
   "metadata": {},
   "source": [
    "Anaconda is really nice beacuse it automates all the installations and downloads for us, rather than having to download the source code and install each one manually. Conda is the preferred installation method, but not all programs are available with this method. Some things that are not available in conda are available in the bioconda channel. And finally if it isn't available in either, you can try pip. As a general rule of thumb, try conda first, then bioconda, then pip. If it is not available with any of those, then you have to download the sourcecode and follow the specific installation instructions provided in the README document for the software. You can also turn to google with those specific keywords (conda, bioconda, pip) to figure out how to install packages."
   ]
  },
  {
   "cell_type": "markdown",
   "metadata": {},
   "source": [
    "conda install package_name"
   ]
  },
  {
   "cell_type": "markdown",
   "metadata": {},
   "source": [
    "conda install -c bioconda package_name"
   ]
  },
  {
   "cell_type": "markdown",
   "metadata": {},
   "source": [
    "pip install package_name"
   ]
  },
  {
   "cell_type": "markdown",
   "metadata": {},
   "source": [
    "We are going to use the following programs so install them all from the bioconda channel:"
   ]
  },
  {
   "cell_type": "markdown",
   "metadata": {},
   "source": [
    "`conda install -c bioconda STAR`"
   ]
  },
  {
   "cell_type": "markdown",
   "metadata": {},
   "source": [
    "`conda install -c bioconda fastqc`"
   ]
  },
  {
   "cell_type": "markdown",
   "metadata": {},
   "source": [
    "`conda install -c conda-forge -c bioconda samtools bzip2`"
   ]
  },
  {
   "cell_type": "markdown",
   "metadata": {},
   "source": [
    "For all of these, use the defaults on what will be automatically upgraded (yes to all)"
   ]
  },
  {
   "cell_type": "markdown",
   "metadata": {},
   "source": [
    "You can check if it installed properly by searching for the executable command with which:"
   ]
  },
  {
   "cell_type": "markdown",
   "metadata": {},
   "source": [
    "`which STAR`"
   ]
  },
  {
   "cell_type": "markdown",
   "metadata": {},
   "source": [
    "`which fastqc`"
   ]
  },
  {
   "cell_type": "markdown",
   "metadata": {},
   "source": [
    "`which samtools`"
   ]
  },
  {
   "cell_type": "markdown",
   "metadata": {},
   "source": [
    "#### Why did it find these executables in your ~/anaconda2/bin/ folder?"
   ]
  },
  {
   "cell_type": "markdown",
   "metadata": {},
   "source": [
    "Because you added it to your path of places to search!"
   ]
  },
  {
   "cell_type": "markdown",
   "metadata": {},
   "source": [
    "NOTE - if later on you get error messages that a specific package name can not be found when trying to run a program - use one of these methods to install that package and then try to run your program again"
   ]
  },
  {
   "cell_type": "markdown",
   "metadata": {},
   "source": [
    "### 4) R installations"
   ]
  },
  {
   "cell_type": "markdown",
   "metadata": {},
   "source": [
    "In addition to python, R is a valuable programming language. We will install R using anaconda. These installations will take while and are tricky (sometimes can break Anaconda, resulting in having to reinstall Anaconda again) so take it step by step."
   ]
  },
  {
   "cell_type": "markdown",
   "metadata": {},
   "source": [
    "We start by getting the basic R version"
   ]
  },
  {
   "cell_type": "markdown",
   "metadata": {},
   "source": [
    "`conda install -c r r`"
   ]
  },
  {
   "cell_type": "markdown",
   "metadata": {},
   "source": [
    "Check whether the installation worked and see if R was installed:"
   ]
  },
  {
   "cell_type": "markdown",
   "metadata": {},
   "source": [
    "`which R`"
   ]
  },
  {
   "cell_type": "markdown",
   "metadata": {},
   "source": [
    "Launch R by typing the name of the language:"
   ]
  },
  {
   "cell_type": "markdown",
   "metadata": {},
   "source": [
    "`R`"
   ]
  },
  {
   "cell_type": "markdown",
   "metadata": {},
   "source": [
    "You should see the following when launching R:"
   ]
  },
  {
   "cell_type": "markdown",
   "metadata": {},
   "source": [
    "`R version 3.6.1 (2019-07-05) -- \"Action of the Toes\"\n",
    "Copyright (C) 2019 The R Foundation for Statistical Computing\n",
    "Platform: x86_64-conda_cos6-linux-gnu (64-bit)`\n",
    "\n",
    "`R is free software and comes with ABSOLUTELY NO WARRANTY.\n",
    "You are welcome to redistribute it under certain conditions.\n",
    "Type 'license()' or 'licence()' for distribution details.`\n",
    "\n",
    "  `Natural language support but running in an English locale`\n",
    "\n",
    "`R is a collaborative project with many contributors.\n",
    "Type 'contributors()' for more information and\n",
    "'citation()' on how to cite R or R packages in publications.`\n",
    "\n",
    "`Type 'demo()' for some demos, 'help()' for on-line help, or\n",
    "'help.start()' for an HTML browser interface to help.\n",
    "Type 'q()' to quit R.`"
   ]
  },
  {
   "cell_type": "markdown",
   "metadata": {},
   "source": [
    "`>`"
   ]
  },
  {
   "cell_type": "markdown",
   "metadata": {},
   "source": [
    "We will now proceed with the installation for DESeq2. We will use [Bioconductor for the DESeq2 installation](https://bioconductor.org/packages/release/bioc/html/DESeq2.html):"
   ]
  },
  {
   "cell_type": "markdown",
   "metadata": {},
   "source": [
    "`if (!requireNamespace(\"BiocManager\", quietly = TRUE))\n",
    "    install.packages(\"BiocManager\")`"
   ]
  },
  {
   "cell_type": "markdown",
   "metadata": {},
   "source": [
    "`BiocManager::install(\"DESeq2\")`"
   ]
  },
  {
   "cell_type": "markdown",
   "metadata": {},
   "source": [
    "\n",
    "At the end of the installation it will ask you whether you want to update some packages. Yes, you do :). Now check whether the installation worked by loading the library in R: "
   ]
  },
  {
   "cell_type": "markdown",
   "metadata": {},
   "source": [
    "`>library(DESeq2)`"
   ]
  },
  {
   "cell_type": "markdown",
   "metadata": {},
   "source": [
    "Several loading messages will show up. If they all pass without giving you seeing any wanrings or error messages at the end you have successfully installed R and DESeq2."
   ]
  },
  {
   "cell_type": "markdown",
   "metadata": {},
   "source": [
    "\n",
    "Lastly, we want to install the R kernel for jupyter notebooks. For this we will use a conda install. Move out of the R interpreter to your home directory:"
   ]
  },
  {
   "cell_type": "markdown",
   "metadata": {},
   "source": [
    "`>quit()`"
   ]
  },
  {
   "cell_type": "markdown",
   "metadata": {},
   "source": [
    "Then install the R kernel for jupyter notebooks"
   ]
  },
  {
   "cell_type": "markdown",
   "metadata": {},
   "source": [
    "`conda install -c r r-irkernel`"
   ]
  }
 ],
 "metadata": {
  "kernelspec": {
   "display_name": "Python 3",
   "language": "python",
   "name": "python3"
  },
  "language_info": {
   "codemirror_mode": {
    "name": "ipython",
    "version": 3
   },
   "file_extension": ".py",
   "mimetype": "text/x-python",
   "name": "python",
   "nbconvert_exporter": "python",
   "pygments_lexer": "ipython3",
   "version": "3.7.3"
  }
 },
 "nbformat": 4,
 "nbformat_minor": 2
}
