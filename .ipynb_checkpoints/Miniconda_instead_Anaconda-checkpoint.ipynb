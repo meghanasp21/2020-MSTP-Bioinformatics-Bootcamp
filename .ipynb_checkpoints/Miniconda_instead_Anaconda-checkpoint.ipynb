{
 "cells": [
  {
   "cell_type": "markdown",
   "metadata": {},
   "source": [
    "\n",
    "For those of you who are having issues with anaconda installs: Miniconda is a lightweight version of Anaconda. It has fewer pre-installed packages which makes it faster to install and uninstall. First uninstall anaconda:"
   ]
  },
  {
   "cell_type": "markdown",
   "metadata": {},
   "source": [
    "## Downloading Miniconda2"
   ]
  },
  {
   "cell_type": "markdown",
   "metadata": {},
   "source": [
    "Download and install Miniconda in your home directory"
   ]
  },
  {
   "cell_type": "markdown",
   "metadata": {},
   "source": [
    "`\n",
    "wget https://repo.anaconda.com/miniconda/Miniconda2-latest-Linux-x86_64.sh`<br>\n",
    "`bash Miniconda2-latest-Linux-x86_64.sh`"
   ]
  },
  {
   "cell_type": "markdown",
   "metadata": {},
   "source": [
    "Now re-install the previous class packages and some extra ones:"
   ]
  },
  {
   "cell_type": "markdown",
   "metadata": {},
   "source": [
    "`conda install -c anaconda numpy`\n",
    "\n",
    "`conda install -c anaconda pandas`\n",
    "\n",
    "`conda install -c anaconda jupyter`\n",
    "\n",
    "`conda install -c bioconda STAR`\n",
    "\n",
    "`conda install -c bioconda fastqc`\n",
    "\n",
    "`conda install -c conda-forge -c bioconda samtools bzip2`\n",
    "\n",
    "`conda install -c bioconda subread`"
   ]
  },
  {
   "cell_type": "markdown",
   "metadata": {},
   "source": [
    "## R installations "
   ]
  },
  {
   "cell_type": "markdown",
   "metadata": {},
   "source": [
    "\n",
    "To install R we're using anaconda. These installations will take a while so be patient."
   ]
  },
  {
   "cell_type": "markdown",
   "metadata": {},
   "source": [
    "We start by getting the basic R version."
   ]
  },
  {
   "cell_type": "markdown",
   "metadata": {},
   "source": [
    "`conda install -c r r`"
   ]
  },
  {
   "cell_type": "markdown",
   "metadata": {},
   "source": [
    "\n",
    "Check whether the installation worked and see if R was installed:"
   ]
  },
  {
   "cell_type": "markdown",
   "metadata": {},
   "source": [
    "`which R`"
   ]
  },
  {
   "cell_type": "markdown",
   "metadata": {},
   "source": [
    "Launch R by typing the name of the language:"
   ]
  },
  {
   "cell_type": "markdown",
   "metadata": {},
   "source": [
    "`R`"
   ]
  },
  {
   "cell_type": "markdown",
   "metadata": {},
   "source": [
    "You should see the following when launching R:"
   ]
  },
  {
   "cell_type": "markdown",
   "metadata": {},
   "source": [
    "`R version 3.6.1 (2019-07-05) -- \"Action of the Toes\"\n",
    "Copyright (C) 2019 The R Foundation for Statistical Computing\n",
    "Platform: x86_64-conda_cos6-linux-gnu (64-bit)`\n",
    "\n",
    "`R is free software and comes with ABSOLUTELY NO WARRANTY.\n",
    "You are welcome to redistribute it under certain conditions.\n",
    "Type 'license()' or 'licence()' for distribution details.`\n",
    "\n",
    "  `Natural language support but running in an English locale`\n",
    "\n",
    "`R is a collaborative project with many contributors.\n",
    "Type 'contributors()' for more information and\n",
    "'citation()' on how to cite R or R packages in publications.`\n",
    "\n",
    "`Type 'demo()' for some demos, 'help()' for on-line help, or\n",
    "'help.start()' for an HTML browser interface to help.\n",
    "Type 'q()' to quit R.`"
   ]
  },
  {
   "cell_type": "markdown",
   "metadata": {},
   "source": [
    "`>`"
   ]
  },
  {
   "cell_type": "markdown",
   "metadata": {},
   "source": [
    "We will now proceed with the installation for DESeq2. We will use [Bioconductor for the DESeq2 installation](https://bioconductor.org/packages/release/bioc/html/DESeq2.html):"
   ]
  },
  {
   "cell_type": "markdown",
   "metadata": {},
   "source": [
    "`if (!requireNamespace(\"BiocManager\", quietly = TRUE))\n",
    "    install.packages(\"BiocManager\")`"
   ]
  },
  {
   "cell_type": "markdown",
   "metadata": {},
   "source": [
    "`BiocManager::install(\"DESeq2\")`"
   ]
  },
  {
   "cell_type": "markdown",
   "metadata": {},
   "source": [
    "\n",
    "At the end of the installation it will ask you whether you want to update some packages. Yes, you do :). Now check whether the installation worked by loading the library in R: "
   ]
  },
  {
   "cell_type": "markdown",
   "metadata": {},
   "source": [
    "`>library(DESeq2)`"
   ]
  },
  {
   "cell_type": "markdown",
   "metadata": {},
   "source": [
    "Several loading messages will show up. If they all pass without giving you seeing any wanrings or error messages at the end you have successfully installed R and DESeq2."
   ]
  },
  {
   "cell_type": "markdown",
   "metadata": {},
   "source": [
    "\n",
    "Lastly, we want to install the R kernel for jupyter notebooks. For this we will use a conda install. Move out of the R interpreter to your home directory:"
   ]
  },
  {
   "cell_type": "markdown",
   "metadata": {},
   "source": [
    "`>quit()`"
   ]
  },
  {
   "cell_type": "markdown",
   "metadata": {},
   "source": [
    "Then install the R kernel for jupyter notebooks"
   ]
  },
  {
   "cell_type": "markdown",
   "metadata": {},
   "source": [
    "`conda install -c r r-irkernel`"
   ]
  },
  {
   "cell_type": "code",
   "execution_count": null,
   "metadata": {},
   "outputs": [],
   "source": []
  },
  {
   "cell_type": "code",
   "execution_count": null,
   "metadata": {},
   "outputs": [],
   "source": []
  },
  {
   "cell_type": "code",
   "execution_count": null,
   "metadata": {},
   "outputs": [],
   "source": []
  },
  {
   "cell_type": "code",
   "execution_count": null,
   "metadata": {},
   "outputs": [],
   "source": []
  }
 ],
 "metadata": {
  "kernelspec": {
   "display_name": "Python 3",
   "language": "python",
   "name": "python3"
  },
  "language_info": {
   "codemirror_mode": {
    "name": "ipython",
    "version": 3
   },
   "file_extension": ".py",
   "mimetype": "text/x-python",
   "name": "python",
   "nbconvert_exporter": "python",
   "pygments_lexer": "ipython3",
   "version": "3.7.3"
  }
 },
 "nbformat": 4,
 "nbformat_minor": 2
}
