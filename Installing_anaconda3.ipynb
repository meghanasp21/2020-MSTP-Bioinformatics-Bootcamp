{
 "cells": [
  {
   "cell_type": "markdown",
   "metadata": {},
   "source": [
    "#### During the MSTP bootcamp, we installed anaconda2, which comes with python2. Soon, python2 will be phased out, so for your purposes, downloading anaconda3 may be useful"
   ]
  },
  {
   "cell_type": "markdown",
   "metadata": {},
   "source": [
    "Retrive the shell script to run anaconda3 installation:"
   ]
  },
  {
   "cell_type": "markdown",
   "metadata": {},
   "source": [
    "`wget https://repo.anaconda.com/archive/Anaconda3-2020.02-Linux-x86_64.sh`"
   ]
  },
  {
   "cell_type": "markdown",
   "metadata": {},
   "source": [
    "This will download the shell script into your current directory. Run the script with bash."
   ]
  },
  {
   "cell_type": "markdown",
   "metadata": {},
   "source": [
    "`bash Anaconda3-2020.02-Linux-x86_64.sh`"
   ]
  },
  {
   "cell_type": "markdown",
   "metadata": {},
   "source": [
    "Then proceed with the instructions in this [notebook](https://github.com/meghanasp21/2020-MSTP-Bioinformatics-Bootcamp/blob/master/Day_0/Downloading_Programs.ipynb) for installations. Remember this will install python 3.7, which has different syntax than python 2.7. So, the notebooks that we have run in python 2.7 may have some errors."
   ]
  },
  {
   "cell_type": "code",
   "execution_count": null,
   "metadata": {},
   "outputs": [],
   "source": []
  }
 ],
 "metadata": {
  "kernelspec": {
   "display_name": "Python 3",
   "language": "python",
   "name": "python3"
  },
  "language_info": {
   "codemirror_mode": {
    "name": "ipython",
    "version": 3
   },
   "file_extension": ".py",
   "mimetype": "text/x-python",
   "name": "python",
   "nbconvert_exporter": "python",
   "pygments_lexer": "ipython3",
   "version": "3.7.3"
  }
 },
 "nbformat": 4,
 "nbformat_minor": 2
}
